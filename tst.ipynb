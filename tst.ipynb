{
 "cells": [
  {
   "cell_type": "code",
   "execution_count": 1,
   "metadata": {
    "collapsed": true
   },
   "outputs": [],
   "source": [
    "import grid2op\n",
    "from grid2op.Agent import BaseAgent, DeltaRedispatchRandomAgent, TopologyGreedy\n",
    "import time\n",
    "import tensorflow as tf\n",
    "import networkx as nx\n",
    "import numpy as np\n",
    "from collections import defaultdict\n",
    "import  scipy.sparse as sp"
   ]
  },
  {
   "cell_type": "code",
   "execution_count": 2,
   "outputs": [],
   "source": [
    "def sparse_to_tuple(sparse_mx):\n",
    "    \"\"\"\n",
    "    Convert sparse matrix to tuple representation.\n",
    "    \"\"\"\n",
    "    def to_tuple(mx):\n",
    "        if not sp.isspmatrix_coo(mx):\n",
    "            mx = mx.tocoo()\n",
    "        coords = np.vstack((mx.row, mx.col)).transpose()\n",
    "        values = mx.data\n",
    "        shape = mx.shape\n",
    "        return coords, values, shape\n",
    "\n",
    "    if isinstance(sparse_mx, list):\n",
    "        for i in range(len(sparse_mx)):\n",
    "            sparse_mx[i] = to_tuple(sparse_mx[i])\n",
    "    else:\n",
    "        sparse_mx = to_tuple(sparse_mx)\n",
    "    return sparse_mx\n",
    "\n",
    "def normalize_adj(adj):\n",
    "    \"\"\"Symmetrically normalize adjacency matrix.\"\"\"\n",
    "    adj = sp.coo_matrix(adj)\n",
    "    rowsum = np.array(adj.sum(1)) # D\n",
    "    d_inv_sqrt = np.power(rowsum, -0.5).flatten() # D^-0.5\n",
    "    d_inv_sqrt[np.isinf(d_inv_sqrt)] = 0.\n",
    "    d_mat_inv_sqrt = sp.diags(d_inv_sqrt) # D^-0.5\n",
    "    return adj.dot(d_mat_inv_sqrt).transpose().dot(d_mat_inv_sqrt).tocoo() # D^-0.5AD^0.5\n",
    "\n",
    "def preprocess_adj(adj):\n",
    "    \"\"\"输入：矩阵A\n",
    "    返回：D^-0.5AD^0.5，格式为稀疏矩阵格式：元素位置，元素值，矩阵size\"\"\"\n",
    "    adj_normalized = normalize_adj(adj + sp.eye(adj.shape[0]))  # adj + sp.eye(adj.shape[0])即为（A+I）矩阵\n",
    "    return sparse_to_tuple(adj_normalized)\n",
    "\n",
    "def preprocess_features(features):\n",
    "    \"\"\"\n",
    "    Row-normalize feature matrix and convert to tuple representation\n",
    "    输入：features，scipy稀疏矩阵格式\n",
    "    输出：对特征矩阵归一化，每行除以行之和。格式为系数矩阵格式：元素位置，元素值，矩阵size\n",
    "    \"\"\"\n",
    "    rowsum = np.array(features.sum(1)) # get sum of each row, [节点数, 1]，每个节点一个sum\n",
    "    r_inv = np.power(rowsum, -1).flatten() # 1/rowsum, [节点数]\n",
    "    r_inv[np.isinf(r_inv)] = 0. # zero inf data\n",
    "    r_mat_inv = sp.diags(r_inv) # sparse diagonal matrix, [节点数, 节点数]，对角矩阵，元素为r_inv中的元素，以稀疏矩阵格式存储\n",
    "    features = r_mat_inv.dot(features) # D^-1:[节点数, 节点数] 乘以 X:[节点数, 特征数]\n",
    "    return sparse_to_tuple(features) # [coordinates, data, shape]\n"
   ],
   "metadata": {
    "collapsed": false,
    "pycharm": {
     "name": "#%%\n"
    }
   }
  },
  {
   "cell_type": "code",
   "execution_count": 3,
   "outputs": [],
   "source": [
    "def MatrixA(env, cur_obs):\n",
    "    '''返回Matrix A，目前只实现了无权图'''\n",
    "    # cur_obs = env.get_obs()\n",
    "    line_ex_buses = cur_obs.line_ex_bus\n",
    "    line_or_buses = cur_obs.line_or_bus\n",
    "    line_ex_subid = cur_obs.line_ex_to_subid\n",
    "    line_or_subid = cur_obs.line_or_to_subid\n",
    "    buses = env.backend._grid.bus\n",
    "\n",
    "    con_dict = defaultdict(list)\n",
    "    for i in range(len(buses.index)): #遍历所有的nodes，对每一个node：\n",
    "        list_i = []\n",
    "        for j in range(len(line_or_subid)):\n",
    "            if line_or_subid[j] + env.n_sub * (line_or_buses[j] - 1) == i: #有线路的始端在节点i\n",
    "                if line_ex_buses[j] > 0:\n",
    "                    list_i.append(line_ex_subid[j] + env.n_sub * (line_ex_buses[j] - 1))\n",
    "        for j in range(len(line_ex_subid)):\n",
    "            if line_ex_subid[j] + env.n_sub * (line_ex_buses[j] - 1) == i: #有线路的末端在节点i\n",
    "                if line_or_buses[j] > 0:\n",
    "                    list_i.append(line_or_subid[j] + env.n_sub * (line_or_buses[j] - 1))\n",
    "        list_i = list(set(list_i))\n",
    "        con_dict[i] = list_i\n",
    "    return con_dict\n",
    "\n",
    "def MatrixX(env):\n",
    "    '''返回Matrix X，格式为：元素位置，元素值，矩阵size\n",
    "    目前feature选取了bus的V，theta，P，Q'''\n",
    "    features = env.backend._grid.res_bus.values\n",
    "    features = sp.csr_matrix(features)\n",
    "    return preprocess_features(features)\n",
    "\n",
    "def GenerateObs(features, support):\n",
    "    '''输入：稀疏格式的features和support'''\n",
    "    f_reordered = tf.sparse.reorder(features)\n",
    "    s_reordered = tf.sparse.reorder(support)\n",
    "    # f_dense = tf.compat.v1.sparse_to_dense(sparse_indices=f_reordered.indices,output_shape=f_reordered.shape,sparse_values=f_reordered.values)\n",
    "    # s_dense = tf.compat.v1.sparse_to_dense(sparse_indices=s_reordered.indices,output_shape=s_reordered.shape,sparse_values=s_reordered.values)\n",
    "    f_dense = tf.sparse.to_dense(f_reordered)\n",
    "    s_dense = tf.sparse.to_dense(s_reordered)\n",
    "    return tf.concat([f_dense, s_dense],axis=1)\n",
    "\n",
    "\n"
   ],
   "metadata": {
    "collapsed": false,
    "pycharm": {
     "name": "#%%\n"
    }
   }
  },
  {
   "cell_type": "code",
   "execution_count": 4,
   "outputs": [],
   "source": [
    "DATA_PATH = '/Users/yuzhao/miniforge3/envs/env_rl/lib/python3.8/site-packages/grid2op/data/l2rpn_case14_sandbox'\n",
    "SCENARIO_PATH = '/Users/yuzhao/miniforge3/envs/env_rl/lib/python3.8/site-packages/grid2op/data/l2rpn_case14_sandbox/chronics'\n",
    "env = grid2op.make(dataset=DATA_PATH, chronics_path=SCENARIO_PATH)\n",
    "all_actions = env.action_space.get_all_unitary_topologies_change(env.action_space)\n"
   ],
   "metadata": {
    "collapsed": false,
    "pycharm": {
     "name": "#%%\n"
    }
   }
  },
  {
   "cell_type": "code",
   "execution_count": 5,
   "outputs": [],
   "source": [
    "class DQNAgent(BaseAgent):\n",
    "    def __init__(self, env, action_space):\n",
    "        super(DQNAgent, self).__init__(action_space=action_space)\n",
    "        self.env = env\n",
    "        self.actions = action_space\n",
    "        self.dqn_model = tf.keras.models.load_model('/Users/yuzhao/Desktop/StudyPool/pythonProject/DQNckpt/t7fc/DQN_2301')\n",
    "\n",
    "    def find_best_line_to_reconnect(self, obs, original_action):    #这里返回的是两个动作合在一起\n",
    "        disconnected_lines = np.where(obs.line_status == False)[0]\n",
    "        if not len(disconnected_lines):\n",
    "            return original_action\n",
    "        if (obs.time_before_cooldown_line[disconnected_lines] > 0).all():\n",
    "            return original_action\n",
    "        o, _, _, _ = obs.simulate(original_action)\n",
    "        min_rho = o.rho.max()\n",
    "        line_to_reconnect = -1\n",
    "        for line in disconnected_lines:\n",
    "            if not obs.time_before_cooldown_line[line]:\n",
    "                reconnect_array = np.zeros_like(obs.rho)\n",
    "                reconnect_array[line] = 1\n",
    "                reconnect_action = deepcopy(original_action)\n",
    "                reconnect_action.update({'set_line_status': reconnect_array})\n",
    "                if not self.is_legal(reconnect_action, obs):\n",
    "                    continue\n",
    "                o, _, _, _ = obs.simulate(reconnect_action)\n",
    "                if o.rho.max() < min_rho:\n",
    "                    line_to_reconnect = line\n",
    "                    min_rho = o.rho.max()\n",
    "        if line_to_reconnect != -1:\n",
    "            reconnect_array = np.zeros_like(obs.rho)\n",
    "            reconnect_array[line_to_reconnect] = 1\n",
    "            original_action.update({'set_line_status': reconnect_array})\n",
    "        return original_action\n",
    "\n",
    "    def act(self, observation, done=False):\n",
    "        if observation.rho.max() < 0.999:\n",
    "            a=self.env.action_space()\n",
    "            return self.find_best_line_to_reconnect(observation, a)    #这里返回的是两个动作合在一起\n",
    "            # return a\n",
    "        else:# >0.999\n",
    "            # 定义矩阵A，D^-0.5AD^0.5\n",
    "            MatA = nx.adjacency_matrix(nx.from_dict_of_lists(MatrixA(env,observation)))\n",
    "            support = [preprocess_adj(MatA)]\n",
    "            support = [tf.cast(tf.SparseTensor(*support[0]),dtype=tf.double)]\n",
    "            # 定义矩阵X，并预处理\n",
    "            features = MatrixX(env)\n",
    "            features = tf.SparseTensor(*features)\n",
    "            obss = GenerateObs(features,support[0])\n",
    "            obss = tf.reshape(obss, (1,32*28))\n",
    "            action_idx = self.dqn_model.predict(obss)\n",
    "            action_idx = int(tf.argmax(action_idx,axis=-1))\n",
    "            a = self.actions[int(action_idx)]\n",
    "            return a"
   ],
   "metadata": {
    "collapsed": false,
    "pycharm": {
     "name": "#%%\n"
    }
   }
  },
  {
   "cell_type": "code",
   "execution_count": 6,
   "outputs": [
    {
     "name": "stdout",
     "output_type": "stream",
     "text": [
      "WARNING:tensorflow:No training configuration found in save file, so the model was *not* compiled. Compile it manually.\n"
     ]
    }
   ],
   "source": [
    "DQNA = DQNAgent(env, all_actions)"
   ],
   "metadata": {
    "collapsed": false,
    "pycharm": {
     "name": "#%%\n"
    }
   }
  },
  {
   "cell_type": "code",
   "execution_count": 7,
   "outputs": [
    {
     "name": "stdout",
     "output_type": "stream",
     "text": [
      "0\n",
      "1\n",
      "WARNING:tensorflow:AutoGraph could not transform <function Model.make_predict_function.<locals>.predict_function at 0x163305af0> and will run it as-is.\n",
      "Please report this to the TensorFlow team. When filing the bug, set the verbosity to 10 (on Linux, `export AUTOGRAPH_VERBOSITY=10`) and attach the full output.\n",
      "Cause: unsupported operand type(s) for -: 'NoneType' and 'int'\n",
      "To silence this warning, decorate the function with @tf.autograph.experimental.do_not_convert\n",
      "WARNING: AutoGraph could not transform <function Model.make_predict_function.<locals>.predict_function at 0x163305af0> and will run it as-is.\n",
      "Please report this to the TensorFlow team. When filing the bug, set the verbosity to 10 (on Linux, `export AUTOGRAPH_VERBOSITY=10`) and attach the full output.\n",
      "Cause: unsupported operand type(s) for -: 'NoneType' and 'int'\n",
      "To silence this warning, decorate the function with @tf.autograph.experimental.do_not_convert\n",
      "2\n",
      "3\n",
      "4\n",
      "5\n",
      "6\n",
      "7\n",
      "8\n",
      "9\n",
      "10\n",
      "11\n",
      "12\n",
      "13\n",
      "14\n",
      "15\n",
      "16\n",
      "17\n",
      "18\n",
      "19\n",
      "20\n",
      "21\n",
      "22\n",
      "23\n",
      "24\n",
      "25\n",
      "26\n",
      "27\n",
      "28\n",
      "29\n"
     ]
    }
   ],
   "source": [
    "steps = []\n",
    "tt_reward = []\n",
    "av_reward = []\n",
    "old_t = time.time()\n",
    "for i in range(30):\n",
    "    print(i)\n",
    "    done = False  #先把done置0\n",
    "    time_step = int(0)  #计数\n",
    "    cum_reward = 0.\n",
    "    obs = env.reset()  #复位env\n",
    "    reward = env.reward_range[0]\n",
    "    max_iter = 8064  #设置最大迭代次数\n",
    "    while not done:\n",
    "        act = DQNA.act(observation=obs) # chose an action to do, in this case \"do nothing\"\n",
    "        obs, reward, done, info = env.step(act) # implement this action on the powergrid\n",
    "        cum_reward += reward\n",
    "        time_step += 1\n",
    "        if time_step >= max_iter:\n",
    "            break\n",
    "    steps.append(time_step)\n",
    "    tt_reward.append(cum_reward)\n",
    "    av_reward.append(cum_reward/time_step)\n",
    "ttt = time.time()-old_t"
   ],
   "metadata": {
    "collapsed": false,
    "pycharm": {
     "name": "#%%\n"
    }
   }
  },
  {
   "cell_type": "code",
   "execution_count": 9,
   "outputs": [
    {
     "data": {
      "text/plain": "[575,\n 575,\n 575,\n 575,\n 575,\n 575,\n 575,\n 575,\n 575,\n 575,\n 575,\n 575,\n 575,\n 575,\n 575,\n 575,\n 575,\n 575,\n 575,\n 575,\n 575,\n 575,\n 575,\n 575,\n 575,\n 575,\n 575,\n 575,\n 575,\n 575]"
     },
     "execution_count": 9,
     "metadata": {},
     "output_type": "execute_result"
    }
   ],
   "source": [
    "steps"
   ],
   "metadata": {
    "collapsed": false,
    "pycharm": {
     "name": "#%%\n"
    }
   }
  },
  {
   "cell_type": "code",
   "execution_count": 11,
   "outputs": [
    {
     "data": {
      "text/plain": "[446810.93225097656,\n 461150.29162597656,\n 458757.86993408203,\n 446810.93225097656,\n 461150.29162597656,\n 458757.86993408203,\n 446810.93225097656,\n 461150.29162597656,\n 458757.86993408203,\n 446810.93225097656,\n 461150.29162597656,\n 458757.86993408203,\n 446810.93225097656,\n 461150.29162597656,\n 458757.86993408203,\n 446810.93225097656,\n 461150.29162597656,\n 458757.86993408203,\n 446810.93225097656,\n 461150.29162597656,\n 458757.86993408203,\n 446810.93225097656,\n 461150.29162597656,\n 458757.86993408203,\n 446810.93225097656,\n 461150.29162597656,\n 458757.86993408203,\n 446810.93225097656,\n 461150.29162597656,\n 458757.86993408203]"
     },
     "execution_count": 10,
     "metadata": {},
     "output_type": "execute_result"
    },
    {
     "data": {
      "text/plain": "[446810.93225097656,\n 461150.29162597656,\n 458757.86993408203,\n 446810.93225097656,\n 461150.29162597656,\n 458757.86993408203,\n 446810.93225097656,\n 461150.29162597656,\n 458757.86993408203,\n 446810.93225097656,\n 461150.29162597656,\n 458757.86993408203,\n 446810.93225097656,\n 461150.29162597656,\n 458757.86993408203,\n 446810.93225097656,\n 461150.29162597656,\n 458757.86993408203,\n 446810.93225097656,\n 461150.29162597656,\n 458757.86993408203,\n 446810.93225097656,\n 461150.29162597656,\n 458757.86993408203,\n 446810.93225097656,\n 461150.29162597656,\n 458757.86993408203,\n 446810.93225097656,\n 461150.29162597656,\n 458757.86993408203]"
     },
     "execution_count": 11,
     "metadata": {},
     "output_type": "execute_result"
    }
   ],
   "source": [
    "tt_reward"
   ],
   "metadata": {
    "collapsed": false,
    "pycharm": {
     "name": "#%%\n"
    }
   }
  },
  {
   "cell_type": "code",
   "execution_count": 12,
   "outputs": [
    {
     "data": {
      "text/plain": "[777.0624908712635,\n 802.0005071756115,\n 797.8397737984035,\n 777.0624908712635,\n 802.0005071756115,\n 797.8397737984035,\n 777.0624908712635,\n 802.0005071756115,\n 797.8397737984035,\n 777.0624908712635,\n 802.0005071756115,\n 797.8397737984035,\n 777.0624908712635,\n 802.0005071756115,\n 797.8397737984035,\n 777.0624908712635,\n 802.0005071756115,\n 797.8397737984035,\n 777.0624908712635,\n 802.0005071756115,\n 797.8397737984035,\n 777.0624908712635,\n 802.0005071756115,\n 797.8397737984035,\n 777.0624908712635,\n 802.0005071756115,\n 797.8397737984035,\n 777.0624908712635,\n 802.0005071756115,\n 797.8397737984035]"
     },
     "execution_count": 12,
     "metadata": {},
     "output_type": "execute_result"
    }
   ],
   "source": [
    "av_reward"
   ],
   "metadata": {
    "collapsed": false,
    "pycharm": {
     "name": "#%%\n"
    }
   }
  },
  {
   "cell_type": "code",
   "execution_count": 13,
   "outputs": [
    {
     "data": {
      "text/plain": "<tf.Tensor: shape=(), dtype=float64, numpy=792.3009239484261>"
     },
     "execution_count": 13,
     "metadata": {},
     "output_type": "execute_result"
    }
   ],
   "source": [
    "tf.reduce_mean(av_reward)"
   ],
   "metadata": {
    "collapsed": false,
    "pycharm": {
     "name": "#%%\n"
    }
   }
  },
  {
   "cell_type": "code",
   "execution_count": 46,
   "outputs": [],
   "source": [],
   "metadata": {
    "collapsed": false,
    "pycharm": {
     "name": "#%%\n"
    }
   }
  },
  {
   "cell_type": "code",
   "execution_count": 9,
   "outputs": [
    {
     "data": {
      "text/plain": "[575,\n 575,\n 575,\n 575,\n 575,\n 575,\n 575,\n 575,\n 575,\n 575,\n 575,\n 575,\n 575,\n 575,\n 575,\n 575,\n 575,\n 575,\n 575,\n 575,\n 575,\n 575,\n 575,\n 575,\n 575,\n 575,\n 575,\n 575,\n 575,\n 575]"
     },
     "execution_count": 9,
     "metadata": {},
     "output_type": "execute_result"
    }
   ],
   "source": [
    "steps"
   ],
   "metadata": {
    "collapsed": false,
    "pycharm": {
     "name": "#%%\n"
    }
   }
  },
  {
   "cell_type": "code",
   "execution_count": 10,
   "outputs": [
    {
     "data": {
      "text/plain": "[446810.93225097656,\n 461156.9514770508,\n 458757.86993408203,\n 446810.93225097656,\n 461156.9514770508,\n 458757.86993408203,\n 446810.93225097656,\n 461156.9514770508,\n 458757.86993408203,\n 446810.93225097656,\n 461156.9514770508,\n 458757.86993408203,\n 446810.93225097656,\n 461156.9514770508,\n 458757.86993408203,\n 446810.93225097656,\n 461156.9514770508,\n 458757.86993408203,\n 446810.93225097656,\n 461156.9514770508,\n 458757.86993408203,\n 446810.93225097656,\n 461156.9514770508,\n 458757.86993408203,\n 446810.93225097656,\n 461156.9514770508,\n 458757.86993408203,\n 446810.93225097656,\n 461156.9514770508,\n 458757.86993408203]"
     },
     "execution_count": 10,
     "metadata": {},
     "output_type": "execute_result"
    }
   ],
   "source": [
    "tt_reward"
   ],
   "metadata": {
    "collapsed": false,
    "pycharm": {
     "name": "#%%\n"
    }
   }
  },
  {
   "cell_type": "code",
   "execution_count": 11,
   "outputs": [
    {
     "data": {
      "text/plain": "[777.0624908712635,\n 802.0120895253057,\n 797.8397737984035,\n 777.0624908712635,\n 802.0120895253057,\n 797.8397737984035,\n 777.0624908712635,\n 802.0120895253057,\n 797.8397737984035,\n 777.0624908712635,\n 802.0120895253057,\n 797.8397737984035,\n 777.0624908712635,\n 802.0120895253057,\n 797.8397737984035,\n 777.0624908712635,\n 802.0120895253057,\n 797.8397737984035,\n 777.0624908712635,\n 802.0120895253057,\n 797.8397737984035,\n 777.0624908712635,\n 802.0120895253057,\n 797.8397737984035,\n 777.0624908712635,\n 802.0120895253057,\n 797.8397737984035,\n 777.0624908712635,\n 802.0120895253057,\n 797.8397737984035]"
     },
     "execution_count": 11,
     "metadata": {},
     "output_type": "execute_result"
    }
   ],
   "source": [
    "av_reward"
   ],
   "metadata": {
    "collapsed": false,
    "pycharm": {
     "name": "#%%\n"
    }
   }
  },
  {
   "cell_type": "code",
   "execution_count": 15,
   "outputs": [
    {
     "data": {
      "text/plain": "168.8276867866516"
     },
     "execution_count": 15,
     "metadata": {},
     "output_type": "execute_result"
    }
   ],
   "source": [
    "ttt"
   ],
   "metadata": {
    "collapsed": false,
    "pycharm": {
     "name": "#%%\n"
    }
   }
  },
  {
   "cell_type": "code",
   "execution_count": 12,
   "outputs": [
    {
     "data": {
      "text/plain": "158.4662139415741"
     },
     "execution_count": 12,
     "metadata": {},
     "output_type": "execute_result"
    }
   ],
   "source": [
    "ttt\n"
   ],
   "metadata": {
    "collapsed": false,
    "pycharm": {
     "name": "#%%\n"
    }
   }
  },
  {
   "cell_type": "code",
   "execution_count": 13,
   "outputs": [
    {
     "data": {
      "text/plain": "<tf.Tensor: shape=(), dtype=float64, numpy=792.3047847316576>"
     },
     "execution_count": 13,
     "metadata": {},
     "output_type": "execute_result"
    }
   ],
   "source": [
    "tf.reduce_mean(av_reward)\n",
    "\n"
   ],
   "metadata": {
    "collapsed": false,
    "pycharm": {
     "name": "#%%\n"
    }
   }
  },
  {
   "cell_type": "code",
   "execution_count": null,
   "outputs": [],
   "source": [],
   "metadata": {
    "collapsed": false,
    "pycharm": {
     "name": "#%%\n"
    }
   }
  }
 ],
 "metadata": {
  "kernelspec": {
   "display_name": "Python 3",
   "language": "python",
   "name": "python3"
  },
  "language_info": {
   "codemirror_mode": {
    "name": "ipython",
    "version": 2
   },
   "file_extension": ".py",
   "mimetype": "text/x-python",
   "name": "python",
   "nbconvert_exporter": "python",
   "pygments_lexer": "ipython2",
   "version": "2.7.6"
  }
 },
 "nbformat": 4,
 "nbformat_minor": 0
}