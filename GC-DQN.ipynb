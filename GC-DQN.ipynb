{
 "cells": [
  {
   "cell_type": "code",
   "execution_count": 1,
   "metadata": {
    "collapsed": true
   },
   "outputs": [],
   "source": [
    "import random\n",
    "import re\n",
    "import tensorflow as tf\n",
    "import os\n",
    "import sys\n",
    "import grid2op\n",
    "import numpy as np\n",
    "import shutil\n",
    "from grid2op.Agent import AgentWithConverter, BaseAgent\n",
    "from collections import deque\n",
    "import time\n",
    "import  scipy.sparse as sp\n",
    "import networkx as nx\n",
    "from collections import defaultdict\n",
    "from layers import *"
   ]
  },
  {
   "cell_type": "code",
   "execution_count": 2,
   "outputs": [],
   "source": [
    "def sparse_to_tuple(sparse_mx):\n",
    "    \"\"\"\n",
    "    Convert sparse matrix to tuple representation.\n",
    "    \"\"\"\n",
    "    def to_tuple(mx):\n",
    "        if not sp.isspmatrix_coo(mx):\n",
    "            mx = mx.tocoo()\n",
    "        coords = np.vstack((mx.row, mx.col)).transpose()\n",
    "        values = mx.data\n",
    "        shape = mx.shape\n",
    "        return coords, values, shape\n",
    "\n",
    "    if isinstance(sparse_mx, list):\n",
    "        for i in range(len(sparse_mx)):\n",
    "            sparse_mx[i] = to_tuple(sparse_mx[i])\n",
    "    else:\n",
    "        sparse_mx = to_tuple(sparse_mx)\n",
    "\n",
    "    return sparse_mx\n",
    "\n",
    "def normalize_adj(adj):\n",
    "    \"\"\"Symmetrically normalize adjacency matrix.\"\"\"\n",
    "    adj = sp.coo_matrix(adj)\n",
    "    rowsum = np.array(adj.sum(1)) # D\n",
    "    d_inv_sqrt = np.power(rowsum, -0.5).flatten() # D^-0.5\n",
    "    d_inv_sqrt[np.isinf(d_inv_sqrt)] = 0.\n",
    "    d_mat_inv_sqrt = sp.diags(d_inv_sqrt) # D^-0.5\n",
    "    return adj.dot(d_mat_inv_sqrt).transpose().dot(d_mat_inv_sqrt).tocoo() # D^-0.5AD^0.5\n",
    "\n",
    "def preprocess_adj(adj):\n",
    "    \"\"\"输入：矩阵A\n",
    "    返回：D^-0.5AD^0.5，格式为系数矩阵格式：元素位置，元素值，矩阵size\"\"\"\n",
    "    adj_normalized = normalize_adj(adj + sp.eye(adj.shape[0]))  # adj + sp.eye(adj.shape[0])即为（A+I）矩阵\n",
    "    return sparse_to_tuple(adj_normalized)\n",
    "\n",
    "def preprocess_features(features):\n",
    "    \"\"\"\n",
    "    Row-normalize feature matrix and convert to tuple representation\n",
    "    输入：features，scipy稀疏矩阵格式\n",
    "    输出：对特征矩阵归一化，每行除以行之和。格式为系数矩阵格式：元素位置，元素值，矩阵size\n",
    "    \"\"\"\n",
    "    rowsum = np.array(features.sum(1)) # get sum of each row, [节点数, 1]，每个节点一个sum\n",
    "    r_inv = np.power(rowsum, -1).flatten() # 1/rowsum, [节点数]\n",
    "    r_inv[np.isinf(r_inv)] = 0. # zero inf data\n",
    "    r_mat_inv = sp.diags(r_inv) # sparse diagonal matrix, [节点数, 节点数]，对角矩阵，元素为r_inv中的元素，以稀疏矩阵格式存储\n",
    "    features = r_mat_inv.dot(features) # D^-1:[节点数, 节点数] 乘以 X:[节点数, 特征数]\n",
    "    return sparse_to_tuple(features) # [coordinates, data, shape]\n"
   ],
   "metadata": {
    "collapsed": false,
    "pycharm": {
     "name": "#%%\n"
    }
   }
  },
  {
   "cell_type": "code",
   "execution_count": 3,
   "outputs": [],
   "source": [
    "def MatrixA(env, cur_obs):\n",
    "    '''返回Matrix A，目前只实现了无权图'''\n",
    "    # cur_obs = env.get_obs()\n",
    "    line_ex_buses = cur_obs.line_ex_bus\n",
    "    line_or_buses = cur_obs.line_or_bus\n",
    "    line_ex_subid = cur_obs.line_ex_to_subid\n",
    "    line_or_subid = cur_obs.line_or_to_subid\n",
    "    buses = env.backend._grid.bus\n",
    "\n",
    "    con_dict = defaultdict(list)\n",
    "    for i in range(len(buses.index)): #遍历所有的nodes，对每一个node：\n",
    "        list_i = []\n",
    "        for j in range(len(line_or_subid)):\n",
    "            if line_or_subid[j] + env.n_sub * (line_or_buses[j] - 1) == i: #有线路的始端在节点i\n",
    "                if line_ex_buses[j] > 0:\n",
    "                    list_i.append(line_ex_subid[j] + env.n_sub * (line_ex_buses[j] - 1))\n",
    "        for j in range(len(line_ex_subid)):\n",
    "            if line_ex_subid[j] + env.n_sub * (line_ex_buses[j] - 1) == i: #有线路的末端在节点i\n",
    "                if line_or_buses[j] > 0:\n",
    "                    list_i.append(line_or_subid[j] + env.n_sub * (line_or_buses[j] - 1))\n",
    "        list_i = list(set(list_i))\n",
    "        con_dict[i] = list_i\n",
    "    return con_dict\n",
    "\n",
    "def MatrixX(env):\n",
    "    '''返回Matrix X，格式为：元素位置，元素值，矩阵size\n",
    "    目前feature选取了bus的V，theta，P，Q'''\n",
    "    features = env.backend._grid.res_bus.values\n",
    "    features = sp.csr_matrix(features)\n",
    "    return preprocess_features(features)"
   ],
   "metadata": {
    "collapsed": false,
    "pycharm": {
     "name": "#%%\n"
    }
   }
  },
  {
   "cell_type": "code",
   "execution_count": 4,
   "outputs": [],
   "source": [
    "class GC_DQN_Model(tf.keras.Model):\n",
    "    def __init__(self, input_dim, act_dim, num_features_non_zero, **kwargs):\n",
    "        '''input_dim：feature的长度，即D\n",
    "            act_dim：输出的维度，动作空间的长度'''\n",
    "        # super(GC_DQN_Model, self).__init__(**kwargs)\n",
    "        super().__init__()\n",
    "        self.dense_cells = 1500\n",
    "        self.GConv_cells = 16\n",
    "        self.input_dim = input_dim\n",
    "        self.act_dim = act_dim\n",
    "        self.dropout = 0.2\n",
    "        self.nb_bus = 28\n",
    "\n",
    "        self.GConv1 = GraphConvolution(input_dim=input_dim,\n",
    "                                      output_dim=self.GConv_cells,\n",
    "                                      num_features_nonzero=num_features_non_zero,\n",
    "                                      activation=tf.nn.relu,\n",
    "                                      dropout=self.dropout,\n",
    "                                      is_sparse_inputs=True)\n",
    "        self.GConv2 = GraphConvolution(input_dim=self.GConv_cells,\n",
    "                                       output_dim=self.GConv_cells,\n",
    "                                       num_features_nonzero=num_features_non_zero,\n",
    "                                       activation=tf.nn.relu,\n",
    "                                       dropout=self.dropout)\n",
    "        self.GConv3 = GraphConvolution(input_dim=self.GConv_cells,\n",
    "                                       output_dim=self.GConv_cells,\n",
    "                                       num_features_nonzero=num_features_non_zero,\n",
    "                                       activation=tf.nn.relu,\n",
    "                                       dropout=self.dropout)\n",
    "        self.reshape = tf.keras.layers.Reshape(target_shape=(28*self.GConv_cells,))\n",
    "        self.dense1 = tf.keras.layers.Dense(units=self.dense_cells, activation=tf.nn.relu)\n",
    "        self.dense2 = tf.keras.layers.Dense(units=self.dense_cells, activation=tf.nn.relu)\n",
    "        self.dense3 = tf.keras.layers.Dense(units=self.dense_cells, activation=tf.nn.relu)\n",
    "        self.dense4 = tf.keras.layers.Dense(units=self.act_dim, activation=tf.nn.softmax)\n",
    "\n",
    "    def call(self, inputs, training=None):\n",
    "        '''\n",
    "        inputs：(features, support)\n",
    "        '''\n",
    "        x, spt = inputs[0], inputs[1]\n",
    "        x = self.GConv1(inputs=[x,spt],training=training)\n",
    "        x = self.GConv2(inputs=[x,spt],training=training)\n",
    "        x = self.GConv3(inputs=[x,spt],training=training)\n",
    "        print('reshape前：')\n",
    "        print(x.shape)\n",
    "        x = tf.reshape(x, [1,28*self.GConv_cells])\n",
    "        # x = self.reshape(x)\n",
    "        print('reshape后：')\n",
    "        print(x.shape)\n",
    "        x = self.dense1(x)\n",
    "        x = self.dense2(x)\n",
    "        x = self.dense3(x)\n",
    "        x = self.dense4(x)\n",
    "        return x\n",
    "\n",
    "    def predict(self,inputs):\n",
    "        q_values = self(inputs)\n",
    "        am = tf.argmax(q_values,axis=-1)\n",
    "        #print(q_values.shape)\n",
    "        return int(am)"
   ],
   "metadata": {
    "collapsed": false,
    "pycharm": {
     "name": "#%%\n"
    }
   }
  },
  {
   "cell_type": "code",
   "execution_count": 5,
   "outputs": [],
   "source": [
    "def array2action(env, array):\n",
    "    action = env.action_space.from_vect(array)\n",
    "    return action\n",
    "\n",
    "def get_model_res(obs_batch, batch_size):\n",
    "    '''根据obs_batch获得一个batch的模型输出'''\n",
    "    for i in range(batch_size):\n",
    "        if i == 0:\n",
    "            res = model(list(obs_batch[i]))\n",
    "        else:\n",
    "            res = tf.concat([res,model(list(obs_batch[i]))],0)\n",
    "    return res"
   ],
   "metadata": {
    "collapsed": false,
    "pycharm": {
     "name": "#%%\n"
    }
   }
  },
  {
   "cell_type": "code",
   "execution_count": 6,
   "outputs": [],
   "source": [
    "learning_rate = 5e-5\n",
    "initial_epsilon = 0.2            # 探索起始时的探索率\n",
    "final_epsilon = 0.01            # 探索终止时的探索率\n",
    "num_episodes = 15                # 游戏训练的总episode数量\n",
    "batch_size = 64\n",
    "gamma = 0.90                      # 折扣因子\n",
    "num_exploration_episodes = np.floor(num_episodes/5)\n",
    "DATA_PATH = '/Users/yuzhao/miniforge3/envs/env_rl/lib/python3.8/site-packages/grid2op/data/l2rpn_case14_sandbox'\n",
    "SCENARIO_PATH = '/Users/yuzhao/miniforge3/envs/env_rl/lib/python3.8/site-packages/grid2op/data/l2rpn_case14_sandbox/chronics'\n"
   ],
   "metadata": {
    "collapsed": false,
    "pycharm": {
     "name": "#%%\n"
    }
   }
  },
  {
   "cell_type": "code",
   "execution_count": 7,
   "outputs": [
    {
     "name": "stdout",
     "output_type": "stream",
     "text": [
      "====================================\n",
      "Scenario 为 [0001]\n",
      "reshape前：\n",
      "(28, 16)\n",
      "reshape后：\n",
      "(1, 448)\n",
      "episode:    0, epsilon 0.2000\n",
      "0\n",
      "2\n",
      "Scenario 为 [0000]\n",
      "reshape前：\n",
      "(28, 16)\n",
      "reshape后：\n",
      "(1, 448)\n",
      "reshape前：\n",
      "(28, 16)\n",
      "reshape后：\n",
      "(1, 448)\n",
      "episode:    0, epsilon 0.2000\n",
      "0\n",
      "4\n",
      "Scenario 为 [0002]\n",
      "reshape前：\n",
      "(28, 16)\n",
      "reshape后：\n",
      "(1, 448)\n",
      "reshape前：\n",
      "(28, 16)\n",
      "reshape后：\n",
      "(1, 448)\n",
      "reshape前：\n",
      "(28, 16)\n",
      "reshape后：\n",
      "(1, 448)\n",
      "reshape前：\n",
      "(28, 16)\n",
      "reshape后：\n",
      "(1, 448)\n",
      "reshape前：\n",
      "(28, 16)\n",
      "reshape后：\n",
      "(1, 448)\n",
      "reshape前：\n",
      "(28, 16)\n",
      "reshape后：\n",
      "(1, 448)\n",
      "episode:    0, epsilon 0.2000\n",
      "0\n",
      "7\n",
      "====================================\n",
      "Scenario 为 [0000]\n",
      "reshape前：\n",
      "(28, 16)\n",
      "reshape后：\n",
      "(1, 448)\n",
      "reshape前：\n",
      "(28, 16)\n",
      "reshape后：\n",
      "(1, 448)\n",
      "reshape前：\n",
      "(28, 16)\n",
      "reshape后：\n",
      "(1, 448)\n",
      "reshape前：\n",
      "(28, 16)\n",
      "reshape后：\n",
      "(1, 448)\n",
      "reshape前：\n",
      "(28, 16)\n",
      "reshape后：\n",
      "(1, 448)\n"
     ]
    },
    {
     "ename": "KeyboardInterrupt",
     "evalue": "",
     "output_type": "error",
     "traceback": [
      "\u001B[0;31m---------------------------------------------------------------------------\u001B[0m",
      "\u001B[0;31mKeyboardInterrupt\u001B[0m                         Traceback (most recent call last)",
      "\u001B[0;32m<ipython-input-7-0054ba23da57>\u001B[0m in \u001B[0;36m<module>\u001B[0;34m\u001B[0m\n\u001B[1;32m     49\u001B[0m                     \u001B[0maction_idx\u001B[0m \u001B[0;34m=\u001B[0m \u001B[0mmodel\u001B[0m\u001B[0;34m.\u001B[0m\u001B[0mpredict\u001B[0m\u001B[0;34m(\u001B[0m\u001B[0mobss\u001B[0m\u001B[0;34m)\u001B[0m\u001B[0;34m\u001B[0m\u001B[0;34m\u001B[0m\u001B[0m\n\u001B[1;32m     50\u001B[0m                     \u001B[0maction\u001B[0m \u001B[0;34m=\u001B[0m \u001B[0mall_actions\u001B[0m\u001B[0;34m[\u001B[0m\u001B[0mint\u001B[0m\u001B[0;34m(\u001B[0m\u001B[0maction_idx\u001B[0m\u001B[0;34m)\u001B[0m\u001B[0;34m]\u001B[0m\u001B[0;34m\u001B[0m\u001B[0;34m\u001B[0m\u001B[0m\n\u001B[0;32m---> 51\u001B[0;31m                 \u001B[0mobs\u001B[0m\u001B[0;34m,\u001B[0m \u001B[0mreward\u001B[0m\u001B[0;34m,\u001B[0m \u001B[0mdone\u001B[0m\u001B[0;34m,\u001B[0m \u001B[0m_\u001B[0m \u001B[0;34m=\u001B[0m \u001B[0menv\u001B[0m\u001B[0;34m.\u001B[0m\u001B[0mstep\u001B[0m\u001B[0;34m(\u001B[0m\u001B[0maction\u001B[0m\u001B[0;34m)\u001B[0m\u001B[0;34m\u001B[0m\u001B[0;34m\u001B[0m\u001B[0m\n\u001B[0m\u001B[1;32m     52\u001B[0m \u001B[0;34m\u001B[0m\u001B[0m\n\u001B[1;32m     53\u001B[0m                 \u001B[0;31m# 定义矩阵A，D^-0.5AD^0.5\u001B[0m\u001B[0;34m\u001B[0m\u001B[0;34m\u001B[0m\u001B[0;34m\u001B[0m\u001B[0m\n",
      "\u001B[0;32m~/miniforge3/envs/env_rl/lib/python3.8/site-packages/grid2op/Environment/BaseEnv.py\u001B[0m in \u001B[0;36mstep\u001B[0;34m(self, action)\u001B[0m\n\u001B[1;32m   2066\u001B[0m                 \u001B[0;31m# compute the next _grid state\u001B[0m\u001B[0;34m\u001B[0m\u001B[0;34m\u001B[0m\u001B[0;34m\u001B[0m\u001B[0m\n\u001B[1;32m   2067\u001B[0m                 \u001B[0mbeg_pf\u001B[0m \u001B[0;34m=\u001B[0m \u001B[0mtime\u001B[0m\u001B[0;34m.\u001B[0m\u001B[0mtime\u001B[0m\u001B[0;34m(\u001B[0m\u001B[0;34m)\u001B[0m\u001B[0;34m\u001B[0m\u001B[0;34m\u001B[0m\u001B[0m\n\u001B[0;32m-> 2068\u001B[0;31m                 \u001B[0mdisc_lines\u001B[0m\u001B[0;34m,\u001B[0m \u001B[0mdetailed_info\u001B[0m\u001B[0;34m,\u001B[0m \u001B[0mconv_\u001B[0m \u001B[0;34m=\u001B[0m \u001B[0mself\u001B[0m\u001B[0;34m.\u001B[0m\u001B[0mbackend\u001B[0m\u001B[0;34m.\u001B[0m\u001B[0mnext_grid_state\u001B[0m\u001B[0;34m(\u001B[0m\u001B[0menv\u001B[0m\u001B[0;34m=\u001B[0m\u001B[0mself\u001B[0m\u001B[0;34m,\u001B[0m \u001B[0mis_dc\u001B[0m\u001B[0;34m=\u001B[0m\u001B[0mself\u001B[0m\u001B[0;34m.\u001B[0m\u001B[0m_env_dc\u001B[0m\u001B[0;34m)\u001B[0m\u001B[0;34m\u001B[0m\u001B[0;34m\u001B[0m\u001B[0m\n\u001B[0m\u001B[1;32m   2069\u001B[0m                 \u001B[0mself\u001B[0m\u001B[0;34m.\u001B[0m\u001B[0m_disc_lines\u001B[0m\u001B[0;34m[\u001B[0m\u001B[0;34m:\u001B[0m\u001B[0;34m]\u001B[0m \u001B[0;34m=\u001B[0m \u001B[0mdisc_lines\u001B[0m\u001B[0;34m\u001B[0m\u001B[0;34m\u001B[0m\u001B[0m\n\u001B[1;32m   2070\u001B[0m                 \u001B[0mself\u001B[0m\u001B[0;34m.\u001B[0m\u001B[0m_time_powerflow\u001B[0m \u001B[0;34m+=\u001B[0m \u001B[0mtime\u001B[0m\u001B[0;34m.\u001B[0m\u001B[0mtime\u001B[0m\u001B[0;34m(\u001B[0m\u001B[0;34m)\u001B[0m \u001B[0;34m-\u001B[0m \u001B[0mbeg_pf\u001B[0m\u001B[0;34m\u001B[0m\u001B[0;34m\u001B[0m\u001B[0m\n",
      "\u001B[0;32m~/miniforge3/envs/env_rl/lib/python3.8/site-packages/grid2op/Backend/Backend.py\u001B[0m in \u001B[0;36mnext_grid_state\u001B[0;34m(self, env, is_dc)\u001B[0m\n\u001B[1;32m    835\u001B[0m         \u001B[0minfos\u001B[0m \u001B[0;34m=\u001B[0m \u001B[0;34m[\u001B[0m\u001B[0;34m]\u001B[0m\u001B[0;34m\u001B[0m\u001B[0;34m\u001B[0m\u001B[0m\n\u001B[1;32m    836\u001B[0m         \u001B[0mdisconnected_during_cf\u001B[0m \u001B[0;34m=\u001B[0m \u001B[0mnp\u001B[0m\u001B[0;34m.\u001B[0m\u001B[0mfull\u001B[0m\u001B[0;34m(\u001B[0m\u001B[0mself\u001B[0m\u001B[0;34m.\u001B[0m\u001B[0mn_line\u001B[0m\u001B[0;34m,\u001B[0m \u001B[0mfill_value\u001B[0m\u001B[0;34m=\u001B[0m\u001B[0;34m-\u001B[0m\u001B[0;36m1\u001B[0m\u001B[0;34m,\u001B[0m \u001B[0mdtype\u001B[0m\u001B[0;34m=\u001B[0m\u001B[0mdt_int\u001B[0m\u001B[0;34m)\u001B[0m\u001B[0;34m\u001B[0m\u001B[0;34m\u001B[0m\u001B[0m\n\u001B[0;32m--> 837\u001B[0;31m         \u001B[0mconv_\u001B[0m \u001B[0;34m=\u001B[0m \u001B[0mself\u001B[0m\u001B[0;34m.\u001B[0m\u001B[0m_runpf_with_diverging_exception\u001B[0m\u001B[0;34m(\u001B[0m\u001B[0mis_dc\u001B[0m\u001B[0;34m)\u001B[0m\u001B[0;34m\u001B[0m\u001B[0;34m\u001B[0m\u001B[0m\n\u001B[0m\u001B[1;32m    838\u001B[0m         \u001B[0;32mif\u001B[0m \u001B[0menv\u001B[0m\u001B[0;34m.\u001B[0m\u001B[0m_no_overflow_disconnection\u001B[0m \u001B[0;32mor\u001B[0m \u001B[0mconv_\u001B[0m \u001B[0;32mis\u001B[0m \u001B[0;32mnot\u001B[0m \u001B[0;32mNone\u001B[0m\u001B[0;34m:\u001B[0m\u001B[0;34m\u001B[0m\u001B[0;34m\u001B[0m\u001B[0m\n\u001B[1;32m    839\u001B[0m             \u001B[0;32mreturn\u001B[0m \u001B[0mdisconnected_during_cf\u001B[0m\u001B[0;34m,\u001B[0m \u001B[0minfos\u001B[0m\u001B[0;34m,\u001B[0m \u001B[0mconv_\u001B[0m\u001B[0;34m\u001B[0m\u001B[0;34m\u001B[0m\u001B[0m\n",
      "\u001B[0;32m~/miniforge3/envs/env_rl/lib/python3.8/site-packages/grid2op/Backend/Backend.py\u001B[0m in \u001B[0;36m_runpf_with_diverging_exception\u001B[0;34m(self, is_dc)\u001B[0m\n\u001B[1;32m    790\u001B[0m         \u001B[0mexc_me\u001B[0m \u001B[0;34m=\u001B[0m \u001B[0;32mNone\u001B[0m\u001B[0;34m\u001B[0m\u001B[0;34m\u001B[0m\u001B[0m\n\u001B[1;32m    791\u001B[0m         \u001B[0;32mtry\u001B[0m\u001B[0;34m:\u001B[0m\u001B[0;34m\u001B[0m\u001B[0;34m\u001B[0m\u001B[0m\n\u001B[0;32m--> 792\u001B[0;31m             \u001B[0mconv\u001B[0m\u001B[0;34m,\u001B[0m \u001B[0mexc_me\u001B[0m \u001B[0;34m=\u001B[0m \u001B[0mself\u001B[0m\u001B[0;34m.\u001B[0m\u001B[0mrunpf\u001B[0m\u001B[0;34m(\u001B[0m\u001B[0mis_dc\u001B[0m\u001B[0;34m=\u001B[0m\u001B[0mis_dc\u001B[0m\u001B[0;34m)\u001B[0m  \u001B[0;31m# run powerflow\u001B[0m\u001B[0;34m\u001B[0m\u001B[0;34m\u001B[0m\u001B[0m\n\u001B[0m\u001B[1;32m    793\u001B[0m         \u001B[0;32mexcept\u001B[0m \u001B[0mGrid2OpException\u001B[0m \u001B[0;32mas\u001B[0m \u001B[0mexc_\u001B[0m\u001B[0;34m:\u001B[0m\u001B[0;34m\u001B[0m\u001B[0;34m\u001B[0m\u001B[0m\n\u001B[1;32m    794\u001B[0m             \u001B[0mexc_me\u001B[0m \u001B[0;34m=\u001B[0m \u001B[0mexc_\u001B[0m\u001B[0;34m\u001B[0m\u001B[0;34m\u001B[0m\u001B[0m\n",
      "\u001B[0;32m~/miniforge3/envs/env_rl/lib/python3.8/site-packages/grid2op/Backend/PandaPowerBackend.py\u001B[0m in \u001B[0;36mrunpf\u001B[0;34m(self, is_dc)\u001B[0m\n\u001B[1;32m    819\u001B[0m                     \u001B[0mself\u001B[0m\u001B[0;34m.\u001B[0m\u001B[0m_nb_bus_before\u001B[0m \u001B[0;34m=\u001B[0m \u001B[0;32mNone\u001B[0m  \u001B[0;31m# if dc i start normally next time i call an ac powerflow\u001B[0m\u001B[0;34m\u001B[0m\u001B[0;34m\u001B[0m\u001B[0m\n\u001B[1;32m    820\u001B[0m                 \u001B[0;32melse\u001B[0m\u001B[0;34m:\u001B[0m\u001B[0;34m\u001B[0m\u001B[0;34m\u001B[0m\u001B[0m\n\u001B[0;32m--> 821\u001B[0;31m                     \u001B[0mpp\u001B[0m\u001B[0;34m.\u001B[0m\u001B[0mrunpp\u001B[0m\u001B[0;34m(\u001B[0m\u001B[0mself\u001B[0m\u001B[0;34m.\u001B[0m\u001B[0m_grid\u001B[0m\u001B[0;34m,\u001B[0m \u001B[0mcheck_connectivity\u001B[0m\u001B[0;34m=\u001B[0m\u001B[0;32mFalse\u001B[0m\u001B[0;34m,\u001B[0m \u001B[0minit\u001B[0m\u001B[0;34m=\u001B[0m\u001B[0mself\u001B[0m\u001B[0;34m.\u001B[0m\u001B[0m_pf_init\u001B[0m\u001B[0;34m,\u001B[0m \u001B[0mnumba\u001B[0m\u001B[0;34m=\u001B[0m\u001B[0mnumba_\u001B[0m\u001B[0;34m)\u001B[0m\u001B[0;34m\u001B[0m\u001B[0;34m\u001B[0m\u001B[0m\n\u001B[0m\u001B[1;32m    822\u001B[0m \u001B[0;34m\u001B[0m\u001B[0m\n\u001B[1;32m    823\u001B[0m                 \u001B[0;31m# stores the computation time\u001B[0m\u001B[0;34m\u001B[0m\u001B[0;34m\u001B[0m\u001B[0;34m\u001B[0m\u001B[0m\n",
      "\u001B[0;32m~/miniforge3/envs/env_rl/lib/python3.8/site-packages/pandapower/run.py\u001B[0m in \u001B[0;36mrunpp\u001B[0;34m(net, algorithm, calculate_voltage_angles, init, max_iteration, tolerance_mva, trafo_model, trafo_loading, enforce_q_lims, check_connectivity, voltage_depend_loads, consider_line_temperature, run_control, **kwargs)\u001B[0m\n\u001B[1;32m    223\u001B[0m         \u001B[0m_check_bus_index_and_print_warning_if_high\u001B[0m\u001B[0;34m(\u001B[0m\u001B[0mnet\u001B[0m\u001B[0;34m)\u001B[0m\u001B[0;34m\u001B[0m\u001B[0;34m\u001B[0m\u001B[0m\n\u001B[1;32m    224\u001B[0m         \u001B[0m_check_gen_index_and_print_warning_if_high\u001B[0m\u001B[0;34m(\u001B[0m\u001B[0mnet\u001B[0m\u001B[0;34m)\u001B[0m\u001B[0;34m\u001B[0m\u001B[0;34m\u001B[0m\u001B[0m\n\u001B[0;32m--> 225\u001B[0;31m         \u001B[0m_powerflow\u001B[0m\u001B[0;34m(\u001B[0m\u001B[0mnet\u001B[0m\u001B[0;34m,\u001B[0m \u001B[0;34m**\u001B[0m\u001B[0mkwargs\u001B[0m\u001B[0;34m)\u001B[0m\u001B[0;34m\u001B[0m\u001B[0;34m\u001B[0m\u001B[0m\n\u001B[0m\u001B[1;32m    226\u001B[0m \u001B[0;34m\u001B[0m\u001B[0m\n\u001B[1;32m    227\u001B[0m \u001B[0;34m\u001B[0m\u001B[0m\n",
      "\u001B[0;32m~/miniforge3/envs/env_rl/lib/python3.8/site-packages/pandapower/powerflow.py\u001B[0m in \u001B[0;36m_powerflow\u001B[0;34m(net, **kwargs)\u001B[0m\n\u001B[1;32m     53\u001B[0m         \u001B[0mverify_results\u001B[0m\u001B[0;34m(\u001B[0m\u001B[0mnet\u001B[0m\u001B[0;34m)\u001B[0m\u001B[0;34m\u001B[0m\u001B[0;34m\u001B[0m\u001B[0m\n\u001B[1;32m     54\u001B[0m     \u001B[0;32melse\u001B[0m\u001B[0;34m:\u001B[0m\u001B[0;34m\u001B[0m\u001B[0;34m\u001B[0m\u001B[0m\n\u001B[0;32m---> 55\u001B[0;31m         \u001B[0minit_results\u001B[0m\u001B[0;34m(\u001B[0m\u001B[0mnet\u001B[0m\u001B[0;34m)\u001B[0m\u001B[0;34m\u001B[0m\u001B[0;34m\u001B[0m\u001B[0m\n\u001B[0m\u001B[1;32m     56\u001B[0m \u001B[0;34m\u001B[0m\u001B[0m\n\u001B[1;32m     57\u001B[0m     \u001B[0;31m# TODO remove this when zip loads are integrated for all PF algorithms\u001B[0m\u001B[0;34m\u001B[0m\u001B[0;34m\u001B[0m\u001B[0;34m\u001B[0m\u001B[0m\n",
      "\u001B[0;32m~/miniforge3/envs/env_rl/lib/python3.8/site-packages/pandapower/results.py\u001B[0m in \u001B[0;36minit_results\u001B[0;34m(net, mode)\u001B[0m\n\u001B[1;32m    138\u001B[0m     \u001B[0msuffix\u001B[0m \u001B[0;34m=\u001B[0m \u001B[0msuffix_mode\u001B[0m\u001B[0;34m.\u001B[0m\u001B[0mget\u001B[0m\u001B[0;34m(\u001B[0m\u001B[0mmode\u001B[0m\u001B[0;34m,\u001B[0m \u001B[0;32mNone\u001B[0m\u001B[0;34m)\u001B[0m\u001B[0;34m\u001B[0m\u001B[0;34m\u001B[0m\u001B[0m\n\u001B[1;32m    139\u001B[0m     \u001B[0;32mfor\u001B[0m \u001B[0melement\u001B[0m \u001B[0;32min\u001B[0m \u001B[0melements\u001B[0m\u001B[0;34m:\u001B[0m\u001B[0;34m\u001B[0m\u001B[0;34m\u001B[0m\u001B[0m\n\u001B[0;32m--> 140\u001B[0;31m         \u001B[0minit_element\u001B[0m\u001B[0;34m(\u001B[0m\u001B[0mnet\u001B[0m\u001B[0;34m,\u001B[0m \u001B[0melement\u001B[0m\u001B[0;34m,\u001B[0m \u001B[0msuffix\u001B[0m\u001B[0;34m)\u001B[0m\u001B[0;34m\u001B[0m\u001B[0;34m\u001B[0m\u001B[0m\n\u001B[0m\u001B[1;32m    141\u001B[0m \u001B[0;34m\u001B[0m\u001B[0m\n\u001B[1;32m    142\u001B[0m \u001B[0;34m\u001B[0m\u001B[0m\n",
      "\u001B[0;32m~/miniforge3/envs/env_rl/lib/python3.8/site-packages/pandapower/results.py\u001B[0m in \u001B[0;36minit_element\u001B[0;34m(net, element, suffix)\u001B[0m\n\u001B[1;32m    112\u001B[0m         \u001B[0;32mif\u001B[0m \u001B[0mres_empty_element\u001B[0m \u001B[0;32min\u001B[0m \u001B[0mnet\u001B[0m\u001B[0;34m:\u001B[0m\u001B[0;34m\u001B[0m\u001B[0;34m\u001B[0m\u001B[0m\n\u001B[1;32m    113\u001B[0m             \u001B[0mcolumns\u001B[0m \u001B[0;34m=\u001B[0m \u001B[0mnet\u001B[0m\u001B[0;34m[\u001B[0m\u001B[0mres_empty_element\u001B[0m\u001B[0;34m]\u001B[0m\u001B[0;34m.\u001B[0m\u001B[0mcolumns\u001B[0m\u001B[0;34m\u001B[0m\u001B[0;34m\u001B[0m\u001B[0m\n\u001B[0;32m--> 114\u001B[0;31m             net[res_element] = pd.DataFrame(np.nan, index=index,\n\u001B[0m\u001B[1;32m    115\u001B[0m                                             columns=columns, dtype='float')\n\u001B[1;32m    116\u001B[0m         \u001B[0;32melse\u001B[0m\u001B[0;34m:\u001B[0m\u001B[0;34m\u001B[0m\u001B[0;34m\u001B[0m\u001B[0m\n",
      "\u001B[0;32m~/miniforge3/envs/env_rl/lib/python3.8/site-packages/pandas/core/frame.py\u001B[0m in \u001B[0;36m__init__\u001B[0;34m(self, data, index, columns, dtype, copy)\u001B[0m\n\u001B[1;32m    762\u001B[0m                 )\n\u001B[1;32m    763\u001B[0m \u001B[0;34m\u001B[0m\u001B[0m\n\u001B[0;32m--> 764\u001B[0;31m                 mgr = ndarray_to_mgr(\n\u001B[0m\u001B[1;32m    765\u001B[0m                     \u001B[0marr2d\u001B[0m\u001B[0;34m,\u001B[0m\u001B[0;34m\u001B[0m\u001B[0;34m\u001B[0m\u001B[0m\n\u001B[1;32m    766\u001B[0m                     \u001B[0mindex\u001B[0m\u001B[0;34m,\u001B[0m\u001B[0;34m\u001B[0m\u001B[0;34m\u001B[0m\u001B[0m\n",
      "\u001B[0;32m~/miniforge3/envs/env_rl/lib/python3.8/site-packages/pandas/core/internals/construction.py\u001B[0m in \u001B[0;36mndarray_to_mgr\u001B[0;34m(values, index, columns, dtype, copy, typ)\u001B[0m\n\u001B[1;32m    373\u001B[0m         \u001B[0mblock_values\u001B[0m \u001B[0;34m=\u001B[0m \u001B[0;34m[\u001B[0m\u001B[0;34m]\u001B[0m\u001B[0;34m\u001B[0m\u001B[0;34m\u001B[0m\u001B[0m\n\u001B[1;32m    374\u001B[0m \u001B[0;34m\u001B[0m\u001B[0m\n\u001B[0;32m--> 375\u001B[0;31m     \u001B[0;32mreturn\u001B[0m \u001B[0mcreate_block_manager_from_blocks\u001B[0m\u001B[0;34m(\u001B[0m\u001B[0mblock_values\u001B[0m\u001B[0;34m,\u001B[0m \u001B[0;34m[\u001B[0m\u001B[0mcolumns\u001B[0m\u001B[0;34m,\u001B[0m \u001B[0mindex\u001B[0m\u001B[0;34m]\u001B[0m\u001B[0;34m)\u001B[0m\u001B[0;34m\u001B[0m\u001B[0;34m\u001B[0m\u001B[0m\n\u001B[0m\u001B[1;32m    376\u001B[0m \u001B[0;34m\u001B[0m\u001B[0m\n\u001B[1;32m    377\u001B[0m \u001B[0;34m\u001B[0m\u001B[0m\n",
      "\u001B[0;32m~/miniforge3/envs/env_rl/lib/python3.8/site-packages/pandas/core/internals/managers.py\u001B[0m in \u001B[0;36mcreate_block_manager_from_blocks\u001B[0;34m(blocks, axes, consolidate)\u001B[0m\n\u001B[1;32m   1749\u001B[0m \u001B[0;34m\u001B[0m\u001B[0m\n\u001B[1;32m   1750\u001B[0m     \u001B[0;32mif\u001B[0m \u001B[0mconsolidate\u001B[0m\u001B[0;34m:\u001B[0m\u001B[0;34m\u001B[0m\u001B[0;34m\u001B[0m\u001B[0m\n\u001B[0;32m-> 1751\u001B[0;31m         \u001B[0mmgr\u001B[0m\u001B[0;34m.\u001B[0m\u001B[0m_consolidate_inplace\u001B[0m\u001B[0;34m(\u001B[0m\u001B[0;34m)\u001B[0m\u001B[0;34m\u001B[0m\u001B[0;34m\u001B[0m\u001B[0m\n\u001B[0m\u001B[1;32m   1752\u001B[0m     \u001B[0;32mreturn\u001B[0m \u001B[0mmgr\u001B[0m\u001B[0;34m\u001B[0m\u001B[0;34m\u001B[0m\u001B[0m\n\u001B[1;32m   1753\u001B[0m \u001B[0;34m\u001B[0m\u001B[0m\n",
      "\u001B[0;32m~/miniforge3/envs/env_rl/lib/python3.8/site-packages/pandas/core/internals/managers.py\u001B[0m in \u001B[0;36m_consolidate_inplace\u001B[0;34m(self)\u001B[0m\n\u001B[1;32m    621\u001B[0m \u001B[0;34m\u001B[0m\u001B[0m\n\u001B[1;32m    622\u001B[0m     \u001B[0;32mdef\u001B[0m \u001B[0m_consolidate_inplace\u001B[0m\u001B[0;34m(\u001B[0m\u001B[0mself\u001B[0m\u001B[0;34m)\u001B[0m \u001B[0;34m->\u001B[0m \u001B[0;32mNone\u001B[0m\u001B[0;34m:\u001B[0m\u001B[0;34m\u001B[0m\u001B[0;34m\u001B[0m\u001B[0m\n\u001B[0;32m--> 623\u001B[0;31m         \u001B[0;32mif\u001B[0m \u001B[0;32mnot\u001B[0m \u001B[0mself\u001B[0m\u001B[0;34m.\u001B[0m\u001B[0mis_consolidated\u001B[0m\u001B[0;34m(\u001B[0m\u001B[0;34m)\u001B[0m\u001B[0;34m:\u001B[0m\u001B[0;34m\u001B[0m\u001B[0;34m\u001B[0m\u001B[0m\n\u001B[0m\u001B[1;32m    624\u001B[0m             \u001B[0mself\u001B[0m\u001B[0;34m.\u001B[0m\u001B[0mblocks\u001B[0m \u001B[0;34m=\u001B[0m \u001B[0mtuple\u001B[0m\u001B[0;34m(\u001B[0m\u001B[0m_consolidate\u001B[0m\u001B[0;34m(\u001B[0m\u001B[0mself\u001B[0m\u001B[0;34m.\u001B[0m\u001B[0mblocks\u001B[0m\u001B[0;34m)\u001B[0m\u001B[0;34m)\u001B[0m\u001B[0;34m\u001B[0m\u001B[0;34m\u001B[0m\u001B[0m\n\u001B[1;32m    625\u001B[0m             \u001B[0mself\u001B[0m\u001B[0;34m.\u001B[0m\u001B[0m_is_consolidated\u001B[0m \u001B[0;34m=\u001B[0m \u001B[0;32mTrue\u001B[0m\u001B[0;34m\u001B[0m\u001B[0;34m\u001B[0m\u001B[0m\n",
      "\u001B[0;32m~/miniforge3/envs/env_rl/lib/python3.8/site-packages/pandas/core/internals/managers.py\u001B[0m in \u001B[0;36mis_consolidated\u001B[0;34m(self)\u001B[0m\n\u001B[1;32m    470\u001B[0m         \u001B[0mReturn\u001B[0m \u001B[0;32mTrue\u001B[0m \u001B[0;32mif\u001B[0m \u001B[0mmore\u001B[0m \u001B[0mthan\u001B[0m \u001B[0mone\u001B[0m \u001B[0mblock\u001B[0m \u001B[0;32mwith\u001B[0m \u001B[0mthe\u001B[0m \u001B[0msame\u001B[0m \u001B[0mdtype\u001B[0m\u001B[0;34m\u001B[0m\u001B[0;34m\u001B[0m\u001B[0m\n\u001B[1;32m    471\u001B[0m         \"\"\"\n\u001B[0;32m--> 472\u001B[0;31m         \u001B[0;32mif\u001B[0m \u001B[0;32mnot\u001B[0m \u001B[0mself\u001B[0m\u001B[0;34m.\u001B[0m\u001B[0m_known_consolidated\u001B[0m\u001B[0;34m:\u001B[0m\u001B[0;34m\u001B[0m\u001B[0;34m\u001B[0m\u001B[0m\n\u001B[0m\u001B[1;32m    473\u001B[0m             \u001B[0mself\u001B[0m\u001B[0;34m.\u001B[0m\u001B[0m_consolidate_check\u001B[0m\u001B[0;34m(\u001B[0m\u001B[0;34m)\u001B[0m\u001B[0;34m\u001B[0m\u001B[0;34m\u001B[0m\u001B[0m\n\u001B[1;32m    474\u001B[0m         \u001B[0;32mreturn\u001B[0m \u001B[0mself\u001B[0m\u001B[0;34m.\u001B[0m\u001B[0m_is_consolidated\u001B[0m\u001B[0;34m\u001B[0m\u001B[0;34m\u001B[0m\u001B[0m\n",
      "\u001B[0;31mKeyboardInterrupt\u001B[0m: "
     ]
    }
   ],
   "source": [
    "if __name__ == '__main__':\n",
    "    env = grid2op.make(dataset=DATA_PATH, chronics_path=SCENARIO_PATH)\n",
    "    env.backend.runpf()\n",
    "    features = MatrixX(env)\n",
    "    all_actions = env.action_space.get_all_unitary_topologies_change(env.action_space)\n",
    "    model = GC_DQN_Model(input_dim=features[2][1],act_dim=len(all_actions),num_features_non_zero=features[1].shape)\n",
    "    summary_writer = tf.summary.create_file_writer('./tensorboardGCN/')\n",
    "    checkpoint = tf.train.Checkpoint(myModel=model)\n",
    "    optimizer = tf.keras.optimizers.Adam(learning_rate=learning_rate)\n",
    "    replay_buffer = deque(maxlen=10000)\n",
    "    epsilon = initial_epsilon\n",
    "    stp = 0\n",
    "    loss = 0\n",
    "    for episode in range(num_episodes):\n",
    "        print('====================================')\n",
    "        cur_time = time.time()\n",
    "        epsilon = max(initial_epsilon * (num_exploration_episodes - episode) / num_exploration_episodes,final_epsilon)# 计算当前探索率\n",
    "        env = grid2op.make(dataset=DATA_PATH, chronics_path=SCENARIO_PATH)\n",
    "        #以下两行作用是保存部分chronics，并舍弃部分chronics，见官方文档\n",
    "        env.chronics_handler.set_filter(lambda path: re.match(\".*00[0-9].*\", path) is not None)\n",
    "        kept = env.chronics_handler.reset()\n",
    "        env.chronics_handler.shuffle()\n",
    "        # 遍历chronics\n",
    "        for chronic in range(len(kept)):\n",
    "            SCN_STEP = 0\n",
    "            env.reset()\n",
    "            dst_step = 0\n",
    "            print('Scenario 为 [%s]' % (env.chronics_handler.get_name()))\n",
    "            env.fast_forward_chronics(dst_step)\n",
    "            env.backend.runpf()\n",
    "            obs, done = env.get_obs(), False\n",
    "\n",
    "            # 定义矩阵A，D^-0.5AD^0.5\n",
    "            MatA = nx.adjacency_matrix(nx.from_dict_of_lists(MatrixA(env,obs)))\n",
    "            support = [preprocess_adj(MatA)]\n",
    "            support = [tf.cast(tf.SparseTensor(*support[0]),dtype=tf.float32)]\n",
    "            # 定义矩阵X，并预处理\n",
    "            features = MatrixX(env)\n",
    "            features = tf.SparseTensor(*features)\n",
    "            obss = [features, support]\n",
    "\n",
    "            while not done:\n",
    "                stp+=1\n",
    "                SCN_STEP+=1\n",
    "                if random.random() < epsilon:\n",
    "                    action = random.choice(all_actions)\n",
    "                    action_idx = all_actions.index(action)\n",
    "                else:\n",
    "                    action_idx = model.predict(obss)\n",
    "                    action = all_actions[int(action_idx)]\n",
    "                obs, reward, done, _ = env.step(action)\n",
    "\n",
    "                # 定义矩阵A，D^-0.5AD^0.5\n",
    "                MatA_nxt = nx.adjacency_matrix(nx.from_dict_of_lists(MatrixA(env,obs)))\n",
    "                support_nxt = [preprocess_adj(MatA_nxt)]\n",
    "                support_nxt = [tf.cast(tf.SparseTensor(*support_nxt[0]),dtype=tf.float32)]\n",
    "                # 定义矩阵X，并预处理\n",
    "                features_nxt = MatrixX(env)\n",
    "                features_nxt = tf.SparseTensor(*features_nxt)\n",
    "                obss_nxt = [features_nxt, support_nxt]\n",
    "\n",
    "                # reward = -10 if done else reward\n",
    "                with summary_writer.as_default():\n",
    "                    tf.summary.scalar(\"reward\", reward, step=stp)\n",
    "                replay_buffer.append((obss, action_idx, reward, obss_nxt, 1 if done else 0)) #放入经验回放池\n",
    "                obss = obss_nxt\n",
    "\n",
    "                if done:\n",
    "                    print(\"episode: %4d, epsilon %.4f\"%(episode, epsilon))\n",
    "                    print(loss)\n",
    "                    print(SCN_STEP)\n",
    "                    break\n",
    "\n",
    "                if len(replay_buffer) >= batch_size:\n",
    "                    # 从经验回放池中随机取一个batch的数据\n",
    "                    mini_batch = random.sample(replay_buffer, batch_size)\n",
    "                    obs_batch, action_idx_batch, reward_batch, next_obs_batch, done_batch = [], [], [], [], []\n",
    "                    for experience in mini_batch:\n",
    "                        s, a, r, s_p, dd = experience\n",
    "                        obs_batch.append(s)\n",
    "                        action_idx_batch.append(a)\n",
    "                        reward_batch.append(r)\n",
    "                        next_obs_batch.append(s_p)\n",
    "                        done_batch.append(dd)\n",
    "                    obs_batch = np.array(obs_batch,dtype=object)\n",
    "                    action_idx_batch = np.array(action_idx_batch)\n",
    "                    reward_batch = np.array(reward_batch)\n",
    "                    next_obs_batch = np.array(next_obs_batch,dtype=object)\n",
    "                    done_batch = np.array(done_batch)\n",
    "                    # obs_batch, action_idx_batch, reward_batch, next_obs_batch, done_batch = \\\n",
    "                    # map(np.array, zip(*random.sample(replay_buffer, batch_size)))\n",
    "                    # q_value = model(next_obs_batch)\n",
    "                    # q_value = tf.squeeze(q_value)\n",
    "                    q_value = tf.squeeze(get_model_res(next_obs_batch, batch_size))\n",
    "                    y = reward_batch + (gamma * tf.reduce_max(q_value, axis=1)) * (1-done_batch)\n",
    "\n",
    "                    with tf.GradientTape() as tape:\n",
    "                        loss = tf.keras.losses.mean_squared_error(y_true=y,y_pred=tf.reduce_sum(tf.squeeze(get_model_res(obs_batch, batch_size)) * tf.one_hot(action_idx_batch, depth=len(all_actions)), axis=1))\n",
    "                    grads = tape.gradient(loss, model.variables)\n",
    "                    with summary_writer.as_default():\n",
    "                        tf.summary.scalar(\"loss\", loss, step=stp)\n",
    "                    optimizer.apply_gradients(grads_and_vars=zip(grads, model.variables))\n",
    "        if episode > 0:\n",
    "            print(time.time()-cur_time)\n",
    "            file_path = '/Users/yuzhao/Desktop/StudyPool/pythonProject/GCDQNckpt/GCDQN_1'+str(episode+1)\n",
    "            model.save(filepath=file_path)\n"
   ],
   "metadata": {
    "collapsed": false,
    "pycharm": {
     "name": "#%%\n"
    }
   }
  },
  {
   "cell_type": "code",
   "execution_count": 114,
   "outputs": [],
   "source": [
    "class MyAgent(BaseAgent):\n",
    "    def __init__(self, action_space, model):\n",
    "        super(MyAgent, self).__init__(action_space=action_space, action_space_converter=action_space_converter)\n",
    "        self.actions = action_space\n",
    "        self.dqn_model = tf.keras.models.load_model('/Users/yuzhao/Desktop/StudyPool/pythonProject/DQNckpt')\n",
    "\n",
    "\n",
    "    def find_best_line_to_reconnect(self, obs, original_action):    #这里返回的是两个动作合在一起\n",
    "        disconnected_lines = np.where(obs.line_status == False)[0]\n",
    "        if not len(disconnected_lines):\n",
    "            return original_action\n",
    "        if (obs.time_before_cooldown_line[disconnected_lines] > 0).all():\n",
    "            return original_action\n",
    "        o, _, _, _ = obs.simulate(original_action)\n",
    "        min_rho = o.rho.max()\n",
    "        line_to_reconnect = -1\n",
    "        for line in disconnected_lines:\n",
    "            if not obs.time_before_cooldown_line[line]:\n",
    "                reconnect_array = np.zeros_like(obs.rho)\n",
    "                reconnect_array[line] = 1\n",
    "                reconnect_action = deepcopy(original_action)\n",
    "                reconnect_action.update({'set_line_status': reconnect_array})\n",
    "                if not self.is_legal(reconnect_action, obs):\n",
    "                    continue\n",
    "                o, _, _, _ = obs.simulate(reconnect_action)\n",
    "                if o.rho.max() < min_rho:\n",
    "                    line_to_reconnect = line\n",
    "                    min_rho = o.rho.max()\n",
    "        if line_to_reconnect != -1:\n",
    "            reconnect_array = np.zeros_like(obs.rho)\n",
    "            reconnect_array[line_to_reconnect] = 1\n",
    "            original_action.update({'set_line_status': reconnect_array})\n",
    "        return original_action\n",
    "\n",
    "    def act(self, observation, reward, done=False):\n",
    "        if observation.rho.max() < 0.999:\n",
    "            a=self.env.action_space()\n",
    "            # return self.find_best_line_to_reconnect(observation, a)    #这里返回的是两个动作合在一起\n",
    "            return a\n",
    "        else:# >0.999\n",
    "            action_idx = self.dqn_model.predict(obs)\n",
    "            a = self.actions[action_idx]\n",
    "            return a"
   ],
   "metadata": {
    "collapsed": false,
    "pycharm": {
     "name": "#%%\n"
    }
   }
  },
  {
   "cell_type": "code",
   "execution_count": 7,
   "outputs": [],
   "source": [
    "env = grid2op.make(dataset=DATA_PATH, chronics_path=SCENARIO_PATH)\n"
   ],
   "metadata": {
    "collapsed": false,
    "pycharm": {
     "name": "#%%\n"
    }
   }
  },
  {
   "cell_type": "code",
   "execution_count": 8,
   "outputs": [
    {
     "data": {
      "text/plain": "       vm_pu  va_degree       p_mw     q_mvar\n0   1.029710   0.000000 -80.490245  17.230542\n1   1.029710  -1.483110 -55.400003  -4.612519\n2   1.029710  -4.049889   5.599998 -11.300972\n3   1.004956  -5.346691  45.000000  31.200001\n4   1.009992  -4.686629   6.800000   4.700000\n5   1.100000  -8.980428  -0.100000 -39.250993\n6   1.060796  -8.138895   0.000000   0.000000\n7   1.100000  -8.138895   0.000000 -24.481408\n8   1.054766  -9.569465  28.799999  -1.438105\n9   1.054501  -9.733603   9.500000   6.500000\n10  1.072838  -9.451130   3.500000   2.400000\n11  1.078347  -9.603432   5.700000   4.000000\n12  1.071713  -9.640417  11.800000   8.300000\n13  1.035467 -10.391511  15.200000  10.800000\n14       NaN        NaN   0.000000   0.000000\n15       NaN        NaN   0.000000   0.000000\n16       NaN        NaN   0.000000   0.000000\n17       NaN        NaN   0.000000   0.000000\n18       NaN        NaN   0.000000   0.000000\n19       NaN        NaN   0.000000   0.000000\n20       NaN        NaN   0.000000   0.000000\n21       NaN        NaN   0.000000   0.000000\n22       NaN        NaN   0.000000   0.000000\n23       NaN        NaN   0.000000   0.000000\n24       NaN        NaN   0.000000   0.000000\n25       NaN        NaN   0.000000   0.000000\n26       NaN        NaN   0.000000   0.000000\n27       NaN        NaN   0.000000   0.000000",
      "text/html": "<div>\n<style scoped>\n    .dataframe tbody tr th:only-of-type {\n        vertical-align: middle;\n    }\n\n    .dataframe tbody tr th {\n        vertical-align: top;\n    }\n\n    .dataframe thead th {\n        text-align: right;\n    }\n</style>\n<table border=\"1\" class=\"dataframe\">\n  <thead>\n    <tr style=\"text-align: right;\">\n      <th></th>\n      <th>vm_pu</th>\n      <th>va_degree</th>\n      <th>p_mw</th>\n      <th>q_mvar</th>\n    </tr>\n  </thead>\n  <tbody>\n    <tr>\n      <th>0</th>\n      <td>1.029710</td>\n      <td>0.000000</td>\n      <td>-80.490245</td>\n      <td>17.230542</td>\n    </tr>\n    <tr>\n      <th>1</th>\n      <td>1.029710</td>\n      <td>-1.483110</td>\n      <td>-55.400003</td>\n      <td>-4.612519</td>\n    </tr>\n    <tr>\n      <th>2</th>\n      <td>1.029710</td>\n      <td>-4.049889</td>\n      <td>5.599998</td>\n      <td>-11.300972</td>\n    </tr>\n    <tr>\n      <th>3</th>\n      <td>1.004956</td>\n      <td>-5.346691</td>\n      <td>45.000000</td>\n      <td>31.200001</td>\n    </tr>\n    <tr>\n      <th>4</th>\n      <td>1.009992</td>\n      <td>-4.686629</td>\n      <td>6.800000</td>\n      <td>4.700000</td>\n    </tr>\n    <tr>\n      <th>5</th>\n      <td>1.100000</td>\n      <td>-8.980428</td>\n      <td>-0.100000</td>\n      <td>-39.250993</td>\n    </tr>\n    <tr>\n      <th>6</th>\n      <td>1.060796</td>\n      <td>-8.138895</td>\n      <td>0.000000</td>\n      <td>0.000000</td>\n    </tr>\n    <tr>\n      <th>7</th>\n      <td>1.100000</td>\n      <td>-8.138895</td>\n      <td>0.000000</td>\n      <td>-24.481408</td>\n    </tr>\n    <tr>\n      <th>8</th>\n      <td>1.054766</td>\n      <td>-9.569465</td>\n      <td>28.799999</td>\n      <td>-1.438105</td>\n    </tr>\n    <tr>\n      <th>9</th>\n      <td>1.054501</td>\n      <td>-9.733603</td>\n      <td>9.500000</td>\n      <td>6.500000</td>\n    </tr>\n    <tr>\n      <th>10</th>\n      <td>1.072838</td>\n      <td>-9.451130</td>\n      <td>3.500000</td>\n      <td>2.400000</td>\n    </tr>\n    <tr>\n      <th>11</th>\n      <td>1.078347</td>\n      <td>-9.603432</td>\n      <td>5.700000</td>\n      <td>4.000000</td>\n    </tr>\n    <tr>\n      <th>12</th>\n      <td>1.071713</td>\n      <td>-9.640417</td>\n      <td>11.800000</td>\n      <td>8.300000</td>\n    </tr>\n    <tr>\n      <th>13</th>\n      <td>1.035467</td>\n      <td>-10.391511</td>\n      <td>15.200000</td>\n      <td>10.800000</td>\n    </tr>\n    <tr>\n      <th>14</th>\n      <td>NaN</td>\n      <td>NaN</td>\n      <td>0.000000</td>\n      <td>0.000000</td>\n    </tr>\n    <tr>\n      <th>15</th>\n      <td>NaN</td>\n      <td>NaN</td>\n      <td>0.000000</td>\n      <td>0.000000</td>\n    </tr>\n    <tr>\n      <th>16</th>\n      <td>NaN</td>\n      <td>NaN</td>\n      <td>0.000000</td>\n      <td>0.000000</td>\n    </tr>\n    <tr>\n      <th>17</th>\n      <td>NaN</td>\n      <td>NaN</td>\n      <td>0.000000</td>\n      <td>0.000000</td>\n    </tr>\n    <tr>\n      <th>18</th>\n      <td>NaN</td>\n      <td>NaN</td>\n      <td>0.000000</td>\n      <td>0.000000</td>\n    </tr>\n    <tr>\n      <th>19</th>\n      <td>NaN</td>\n      <td>NaN</td>\n      <td>0.000000</td>\n      <td>0.000000</td>\n    </tr>\n    <tr>\n      <th>20</th>\n      <td>NaN</td>\n      <td>NaN</td>\n      <td>0.000000</td>\n      <td>0.000000</td>\n    </tr>\n    <tr>\n      <th>21</th>\n      <td>NaN</td>\n      <td>NaN</td>\n      <td>0.000000</td>\n      <td>0.000000</td>\n    </tr>\n    <tr>\n      <th>22</th>\n      <td>NaN</td>\n      <td>NaN</td>\n      <td>0.000000</td>\n      <td>0.000000</td>\n    </tr>\n    <tr>\n      <th>23</th>\n      <td>NaN</td>\n      <td>NaN</td>\n      <td>0.000000</td>\n      <td>0.000000</td>\n    </tr>\n    <tr>\n      <th>24</th>\n      <td>NaN</td>\n      <td>NaN</td>\n      <td>0.000000</td>\n      <td>0.000000</td>\n    </tr>\n    <tr>\n      <th>25</th>\n      <td>NaN</td>\n      <td>NaN</td>\n      <td>0.000000</td>\n      <td>0.000000</td>\n    </tr>\n    <tr>\n      <th>26</th>\n      <td>NaN</td>\n      <td>NaN</td>\n      <td>0.000000</td>\n      <td>0.000000</td>\n    </tr>\n    <tr>\n      <th>27</th>\n      <td>NaN</td>\n      <td>NaN</td>\n      <td>0.000000</td>\n      <td>0.000000</td>\n    </tr>\n  </tbody>\n</table>\n</div>"
     },
     "execution_count": 8,
     "metadata": {},
     "output_type": "execute_result"
    }
   ],
   "source": [],
   "metadata": {
    "collapsed": false,
    "pycharm": {
     "name": "#%%\n"
    }
   }
  },
  {
   "cell_type": "code",
   "execution_count": 19,
   "outputs": [
    {
     "data": {
      "text/plain": "<tf.Tensor: shape=(1, 1, 66918), dtype=float32, numpy=\narray([[[1.48646586e-05, 1.47141882e-05, 1.48480385e-05, ...,\n         1.52316970e-05, 1.48792242e-05, 1.49887010e-05]]], dtype=float32)>"
     },
     "execution_count": 19,
     "metadata": {},
     "output_type": "execute_result"
    }
   ],
   "source": [],
   "metadata": {
    "collapsed": false,
    "pycharm": {
     "name": "#%%\n"
    }
   }
  },
  {
   "cell_type": "code",
   "execution_count": null,
   "outputs": [],
   "source": [],
   "metadata": {
    "collapsed": false,
    "pycharm": {
     "name": "#%%\n"
    }
   }
  },
  {
   "cell_type": "code",
   "execution_count": 50,
   "outputs": [
    {
     "data": {
      "text/plain": "(1, 2)"
     },
     "execution_count": 50,
     "metadata": {},
     "output_type": "execute_result"
    }
   ],
   "source": [],
   "metadata": {
    "collapsed": false,
    "pycharm": {
     "name": "#%%\n"
    }
   }
  },
  {
   "cell_type": "code",
   "execution_count": 11,
   "outputs": [
    {
     "data": {
      "text/plain": "[<tensorflow.python.framework.sparse_tensor.SparseTensor at 0x14a995b50>,\n [<tensorflow.python.framework.sparse_tensor.SparseTensor at 0x14efd9940>]]"
     },
     "execution_count": 11,
     "metadata": {},
     "output_type": "execute_result"
    }
   ],
   "source": [
    "list(obs_batch[63])"
   ],
   "metadata": {
    "collapsed": false,
    "pycharm": {
     "name": "#%%\n"
    }
   }
  },
  {
   "cell_type": "code",
   "execution_count": 26,
   "outputs": [],
   "source": [
    "res1 = model(list(obs_batch[63]))\n",
    "res2 = model(list(obs_batch[0]))"
   ],
   "metadata": {
    "collapsed": false,
    "pycharm": {
     "name": "#%%\n"
    }
   }
  },
  {
   "cell_type": "code",
   "execution_count": 29,
   "outputs": [],
   "source": [],
   "metadata": {
    "collapsed": false,
    "pycharm": {
     "name": "#%%\n"
    }
   }
  },
  {
   "cell_type": "code",
   "execution_count": 31,
   "outputs": [],
   "source": [],
   "metadata": {
    "collapsed": false,
    "pycharm": {
     "name": "#%%\n"
    }
   }
  },
  {
   "cell_type": "code",
   "execution_count": 32,
   "outputs": [],
   "source": [],
   "metadata": {
    "collapsed": false,
    "pycharm": {
     "name": "#%%\n"
    }
   }
  },
  {
   "cell_type": "code",
   "execution_count": 40,
   "outputs": [
    {
     "data": {
      "text/plain": "<tensorflow.python.framework.sparse_tensor.SparseTensor at 0x2ae97dca0>"
     },
     "execution_count": 40,
     "metadata": {},
     "output_type": "execute_result"
    }
   ],
   "source": [],
   "metadata": {
    "collapsed": false,
    "pycharm": {
     "name": "#%%\n"
    }
   }
  },
  {
   "cell_type": "code",
   "execution_count": 37,
   "outputs": [
    {
     "ename": "ValueError",
     "evalue": "total size of new array must be unchanged, input_shape = [16], output_shape = [1, 1152]",
     "output_type": "error",
     "traceback": [
      "\u001B[0;31m---------------------------------------------------------------------------\u001B[0m",
      "\u001B[0;31mValueError\u001B[0m                                Traceback (most recent call last)",
      "\u001B[0;32m<ipython-input-37-7d0b422db1a3>\u001B[0m in \u001B[0;36m<module>\u001B[0;34m\u001B[0m\n\u001B[1;32m      1\u001B[0m \u001B[0mfile_path\u001B[0m \u001B[0;34m=\u001B[0m \u001B[0;34m'/Users/yuzhao/Desktop/StudyPool/pythonProject/GCDQNckpt/GCDQN_1'\u001B[0m\u001B[0;34m+\u001B[0m\u001B[0mstr\u001B[0m\u001B[0;34m(\u001B[0m\u001B[0mepisode\u001B[0m\u001B[0;34m+\u001B[0m\u001B[0;36m1\u001B[0m\u001B[0;34m)\u001B[0m\u001B[0;34m\u001B[0m\u001B[0;34m\u001B[0m\u001B[0m\n\u001B[0;32m----> 2\u001B[0;31m \u001B[0mmodel\u001B[0m\u001B[0;34m.\u001B[0m\u001B[0msave\u001B[0m\u001B[0;34m(\u001B[0m\u001B[0mfilepath\u001B[0m\u001B[0;34m=\u001B[0m\u001B[0mfile_path\u001B[0m\u001B[0;34m)\u001B[0m\u001B[0;34m\u001B[0m\u001B[0;34m\u001B[0m\u001B[0m\n\u001B[0m\u001B[1;32m      3\u001B[0m \u001B[0;34m\u001B[0m\u001B[0m\n",
      "\u001B[0;32m~/miniforge3/envs/env_rl/lib/python3.8/site-packages/tensorflow/python/keras/engine/training.py\u001B[0m in \u001B[0;36msave\u001B[0;34m(self, filepath, overwrite, include_optimizer, save_format, signatures, options, save_traces)\u001B[0m\n\u001B[1;32m   1999\u001B[0m     \"\"\"\n\u001B[1;32m   2000\u001B[0m     \u001B[0;31m# pylint: enable=line-too-long\u001B[0m\u001B[0;34m\u001B[0m\u001B[0;34m\u001B[0m\u001B[0;34m\u001B[0m\u001B[0m\n\u001B[0;32m-> 2001\u001B[0;31m     save.save_model(self, filepath, overwrite, include_optimizer, save_format,\n\u001B[0m\u001B[1;32m   2002\u001B[0m                     signatures, options, save_traces)\n\u001B[1;32m   2003\u001B[0m \u001B[0;34m\u001B[0m\u001B[0m\n",
      "\u001B[0;32m~/miniforge3/envs/env_rl/lib/python3.8/site-packages/tensorflow/python/keras/saving/save.py\u001B[0m in \u001B[0;36msave_model\u001B[0;34m(model, filepath, overwrite, include_optimizer, save_format, signatures, options, save_traces)\u001B[0m\n\u001B[1;32m    154\u001B[0m         model, filepath, overwrite, include_optimizer)\n\u001B[1;32m    155\u001B[0m   \u001B[0;32melse\u001B[0m\u001B[0;34m:\u001B[0m\u001B[0;34m\u001B[0m\u001B[0;34m\u001B[0m\u001B[0m\n\u001B[0;32m--> 156\u001B[0;31m     saved_model_save.save(model, filepath, overwrite, include_optimizer,\n\u001B[0m\u001B[1;32m    157\u001B[0m                           signatures, options, save_traces)\n\u001B[1;32m    158\u001B[0m \u001B[0;34m\u001B[0m\u001B[0m\n",
      "\u001B[0;32m~/miniforge3/envs/env_rl/lib/python3.8/site-packages/tensorflow/python/keras/saving/saved_model/save.py\u001B[0m in \u001B[0;36msave\u001B[0;34m(model, filepath, overwrite, include_optimizer, signatures, options, save_traces)\u001B[0m\n\u001B[1;32m     87\u001B[0m     \u001B[0;32mwith\u001B[0m \u001B[0mdistribution_strategy_context\u001B[0m\u001B[0;34m.\u001B[0m\u001B[0m_get_default_replica_context\u001B[0m\u001B[0;34m(\u001B[0m\u001B[0;34m)\u001B[0m\u001B[0;34m:\u001B[0m  \u001B[0;31m# pylint: disable=protected-access\u001B[0m\u001B[0;34m\u001B[0m\u001B[0;34m\u001B[0m\u001B[0m\n\u001B[1;32m     88\u001B[0m       \u001B[0;32mwith\u001B[0m \u001B[0mutils\u001B[0m\u001B[0;34m.\u001B[0m\u001B[0mkeras_option_scope\u001B[0m\u001B[0;34m(\u001B[0m\u001B[0msave_traces\u001B[0m\u001B[0;34m)\u001B[0m\u001B[0;34m:\u001B[0m\u001B[0;34m\u001B[0m\u001B[0;34m\u001B[0m\u001B[0m\n\u001B[0;32m---> 89\u001B[0;31m         \u001B[0msave_lib\u001B[0m\u001B[0;34m.\u001B[0m\u001B[0msave\u001B[0m\u001B[0;34m(\u001B[0m\u001B[0mmodel\u001B[0m\u001B[0;34m,\u001B[0m \u001B[0mfilepath\u001B[0m\u001B[0;34m,\u001B[0m \u001B[0msignatures\u001B[0m\u001B[0;34m,\u001B[0m \u001B[0moptions\u001B[0m\u001B[0;34m)\u001B[0m\u001B[0;34m\u001B[0m\u001B[0;34m\u001B[0m\u001B[0m\n\u001B[0m\u001B[1;32m     90\u001B[0m \u001B[0;34m\u001B[0m\u001B[0m\n\u001B[1;32m     91\u001B[0m   \u001B[0;32mif\u001B[0m \u001B[0;32mnot\u001B[0m \u001B[0minclude_optimizer\u001B[0m\u001B[0;34m:\u001B[0m\u001B[0;34m\u001B[0m\u001B[0;34m\u001B[0m\u001B[0m\n",
      "\u001B[0;32m~/miniforge3/envs/env_rl/lib/python3.8/site-packages/tensorflow/python/saved_model/save.py\u001B[0m in \u001B[0;36msave\u001B[0;34m(obj, export_dir, signatures, options)\u001B[0m\n\u001B[1;32m   1029\u001B[0m   \u001B[0mmeta_graph_def\u001B[0m \u001B[0;34m=\u001B[0m \u001B[0msaved_model\u001B[0m\u001B[0;34m.\u001B[0m\u001B[0mmeta_graphs\u001B[0m\u001B[0;34m.\u001B[0m\u001B[0madd\u001B[0m\u001B[0;34m(\u001B[0m\u001B[0;34m)\u001B[0m\u001B[0;34m\u001B[0m\u001B[0;34m\u001B[0m\u001B[0m\n\u001B[1;32m   1030\u001B[0m \u001B[0;34m\u001B[0m\u001B[0m\n\u001B[0;32m-> 1031\u001B[0;31m   _, exported_graph, object_saver, asset_info = _build_meta_graph(\n\u001B[0m\u001B[1;32m   1032\u001B[0m       obj, signatures, options, meta_graph_def)\n\u001B[1;32m   1033\u001B[0m   \u001B[0msaved_model\u001B[0m\u001B[0;34m.\u001B[0m\u001B[0msaved_model_schema_version\u001B[0m \u001B[0;34m=\u001B[0m \u001B[0mconstants\u001B[0m\u001B[0;34m.\u001B[0m\u001B[0mSAVED_MODEL_SCHEMA_VERSION\u001B[0m\u001B[0;34m\u001B[0m\u001B[0;34m\u001B[0m\u001B[0m\n",
      "\u001B[0;32m~/miniforge3/envs/env_rl/lib/python3.8/site-packages/tensorflow/python/saved_model/save.py\u001B[0m in \u001B[0;36m_build_meta_graph\u001B[0;34m(obj, signatures, options, meta_graph_def)\u001B[0m\n\u001B[1;32m   1211\u001B[0m \u001B[0;34m\u001B[0m\u001B[0m\n\u001B[1;32m   1212\u001B[0m   \u001B[0;32mwith\u001B[0m \u001B[0msave_context\u001B[0m\u001B[0;34m.\u001B[0m\u001B[0msave_context\u001B[0m\u001B[0;34m(\u001B[0m\u001B[0moptions\u001B[0m\u001B[0;34m)\u001B[0m\u001B[0;34m:\u001B[0m\u001B[0;34m\u001B[0m\u001B[0;34m\u001B[0m\u001B[0m\n\u001B[0;32m-> 1213\u001B[0;31m     \u001B[0;32mreturn\u001B[0m \u001B[0m_build_meta_graph_impl\u001B[0m\u001B[0;34m(\u001B[0m\u001B[0mobj\u001B[0m\u001B[0;34m,\u001B[0m \u001B[0msignatures\u001B[0m\u001B[0;34m,\u001B[0m \u001B[0moptions\u001B[0m\u001B[0;34m,\u001B[0m \u001B[0mmeta_graph_def\u001B[0m\u001B[0;34m)\u001B[0m\u001B[0;34m\u001B[0m\u001B[0;34m\u001B[0m\u001B[0m\n\u001B[0m",
      "\u001B[0;32m~/miniforge3/envs/env_rl/lib/python3.8/site-packages/tensorflow/python/saved_model/save.py\u001B[0m in \u001B[0;36m_build_meta_graph_impl\u001B[0;34m(obj, signatures, options, meta_graph_def)\u001B[0m\n\u001B[1;32m   1129\u001B[0m   \u001B[0mcheckpoint_graph_view\u001B[0m \u001B[0;34m=\u001B[0m \u001B[0m_AugmentedGraphView\u001B[0m\u001B[0;34m(\u001B[0m\u001B[0mobj\u001B[0m\u001B[0;34m)\u001B[0m\u001B[0;34m\u001B[0m\u001B[0;34m\u001B[0m\u001B[0m\n\u001B[1;32m   1130\u001B[0m   \u001B[0;32mif\u001B[0m \u001B[0msignatures\u001B[0m \u001B[0;32mis\u001B[0m \u001B[0;32mNone\u001B[0m\u001B[0;34m:\u001B[0m\u001B[0;34m\u001B[0m\u001B[0;34m\u001B[0m\u001B[0m\n\u001B[0;32m-> 1131\u001B[0;31m     signatures = signature_serialization.find_function_to_export(\n\u001B[0m\u001B[1;32m   1132\u001B[0m         checkpoint_graph_view)\n\u001B[1;32m   1133\u001B[0m \u001B[0;34m\u001B[0m\u001B[0m\n",
      "\u001B[0;32m~/miniforge3/envs/env_rl/lib/python3.8/site-packages/tensorflow/python/saved_model/signature_serialization.py\u001B[0m in \u001B[0;36mfind_function_to_export\u001B[0;34m(saveable_view)\u001B[0m\n\u001B[1;32m     73\u001B[0m   \u001B[0;31m# If the user did not specify signatures, check the root object for a function\u001B[0m\u001B[0;34m\u001B[0m\u001B[0;34m\u001B[0m\u001B[0;34m\u001B[0m\u001B[0m\n\u001B[1;32m     74\u001B[0m   \u001B[0;31m# that can be made into a signature.\u001B[0m\u001B[0;34m\u001B[0m\u001B[0;34m\u001B[0m\u001B[0;34m\u001B[0m\u001B[0m\n\u001B[0;32m---> 75\u001B[0;31m   \u001B[0mfunctions\u001B[0m \u001B[0;34m=\u001B[0m \u001B[0msaveable_view\u001B[0m\u001B[0;34m.\u001B[0m\u001B[0mlist_functions\u001B[0m\u001B[0;34m(\u001B[0m\u001B[0msaveable_view\u001B[0m\u001B[0;34m.\u001B[0m\u001B[0mroot\u001B[0m\u001B[0;34m)\u001B[0m\u001B[0;34m\u001B[0m\u001B[0;34m\u001B[0m\u001B[0m\n\u001B[0m\u001B[1;32m     76\u001B[0m   \u001B[0msignature\u001B[0m \u001B[0;34m=\u001B[0m \u001B[0mfunctions\u001B[0m\u001B[0;34m.\u001B[0m\u001B[0mget\u001B[0m\u001B[0;34m(\u001B[0m\u001B[0mDEFAULT_SIGNATURE_ATTR\u001B[0m\u001B[0;34m,\u001B[0m \u001B[0;32mNone\u001B[0m\u001B[0;34m)\u001B[0m\u001B[0;34m\u001B[0m\u001B[0;34m\u001B[0m\u001B[0m\n\u001B[1;32m     77\u001B[0m   \u001B[0;32mif\u001B[0m \u001B[0msignature\u001B[0m \u001B[0;32mis\u001B[0m \u001B[0;32mnot\u001B[0m \u001B[0;32mNone\u001B[0m\u001B[0;34m:\u001B[0m\u001B[0;34m\u001B[0m\u001B[0;34m\u001B[0m\u001B[0m\n",
      "\u001B[0;32m~/miniforge3/envs/env_rl/lib/python3.8/site-packages/tensorflow/python/saved_model/save.py\u001B[0m in \u001B[0;36mlist_functions\u001B[0;34m(self, obj, extra_functions)\u001B[0m\n\u001B[1;32m    146\u001B[0m     \u001B[0mobj_functions\u001B[0m \u001B[0;34m=\u001B[0m \u001B[0mself\u001B[0m\u001B[0;34m.\u001B[0m\u001B[0m_functions\u001B[0m\u001B[0;34m.\u001B[0m\u001B[0mget\u001B[0m\u001B[0;34m(\u001B[0m\u001B[0mobj\u001B[0m\u001B[0;34m,\u001B[0m \u001B[0;32mNone\u001B[0m\u001B[0;34m)\u001B[0m\u001B[0;34m\u001B[0m\u001B[0;34m\u001B[0m\u001B[0m\n\u001B[1;32m    147\u001B[0m     \u001B[0;32mif\u001B[0m \u001B[0mobj_functions\u001B[0m \u001B[0;32mis\u001B[0m \u001B[0;32mNone\u001B[0m\u001B[0;34m:\u001B[0m\u001B[0;34m\u001B[0m\u001B[0;34m\u001B[0m\u001B[0m\n\u001B[0;32m--> 148\u001B[0;31m       obj_functions = obj._list_functions_for_serialization(  # pylint: disable=protected-access\n\u001B[0m\u001B[1;32m    149\u001B[0m           self._serialization_cache)\n\u001B[1;32m    150\u001B[0m       \u001B[0mself\u001B[0m\u001B[0;34m.\u001B[0m\u001B[0m_functions\u001B[0m\u001B[0;34m[\u001B[0m\u001B[0mobj\u001B[0m\u001B[0;34m]\u001B[0m \u001B[0;34m=\u001B[0m \u001B[0mobj_functions\u001B[0m\u001B[0;34m\u001B[0m\u001B[0;34m\u001B[0m\u001B[0m\n",
      "\u001B[0;32m~/miniforge3/envs/env_rl/lib/python3.8/site-packages/tensorflow/python/keras/engine/training.py\u001B[0m in \u001B[0;36m_list_functions_for_serialization\u001B[0;34m(self, serialization_cache)\u001B[0m\n\u001B[1;32m   2610\u001B[0m     \u001B[0mself\u001B[0m\u001B[0;34m.\u001B[0m\u001B[0mtest_function\u001B[0m \u001B[0;34m=\u001B[0m \u001B[0;32mNone\u001B[0m\u001B[0;34m\u001B[0m\u001B[0;34m\u001B[0m\u001B[0m\n\u001B[1;32m   2611\u001B[0m     \u001B[0mself\u001B[0m\u001B[0;34m.\u001B[0m\u001B[0mpredict_function\u001B[0m \u001B[0;34m=\u001B[0m \u001B[0;32mNone\u001B[0m\u001B[0;34m\u001B[0m\u001B[0;34m\u001B[0m\u001B[0m\n\u001B[0;32m-> 2612\u001B[0;31m     functions = super(\n\u001B[0m\u001B[1;32m   2613\u001B[0m         Model, self)._list_functions_for_serialization(serialization_cache)\n\u001B[1;32m   2614\u001B[0m     \u001B[0mself\u001B[0m\u001B[0;34m.\u001B[0m\u001B[0mtrain_function\u001B[0m \u001B[0;34m=\u001B[0m \u001B[0mtrain_function\u001B[0m\u001B[0;34m\u001B[0m\u001B[0;34m\u001B[0m\u001B[0m\n",
      "\u001B[0;32m~/miniforge3/envs/env_rl/lib/python3.8/site-packages/tensorflow/python/keras/engine/base_layer.py\u001B[0m in \u001B[0;36m_list_functions_for_serialization\u001B[0;34m(self, serialization_cache)\u001B[0m\n\u001B[1;32m   3074\u001B[0m \u001B[0;34m\u001B[0m\u001B[0m\n\u001B[1;32m   3075\u001B[0m   \u001B[0;32mdef\u001B[0m \u001B[0m_list_functions_for_serialization\u001B[0m\u001B[0;34m(\u001B[0m\u001B[0mself\u001B[0m\u001B[0;34m,\u001B[0m \u001B[0mserialization_cache\u001B[0m\u001B[0;34m)\u001B[0m\u001B[0;34m:\u001B[0m\u001B[0;34m\u001B[0m\u001B[0;34m\u001B[0m\u001B[0m\n\u001B[0;32m-> 3076\u001B[0;31m     return (self._trackable_saved_model_saver\n\u001B[0m\u001B[1;32m   3077\u001B[0m             .list_functions_for_serialization(serialization_cache))\n\u001B[1;32m   3078\u001B[0m \u001B[0;34m\u001B[0m\u001B[0m\n",
      "\u001B[0;32m~/miniforge3/envs/env_rl/lib/python3.8/site-packages/tensorflow/python/keras/saving/saved_model/base_serialization.py\u001B[0m in \u001B[0;36mlist_functions_for_serialization\u001B[0;34m(self, serialization_cache)\u001B[0m\n\u001B[1;32m     92\u001B[0m       \u001B[0;32mreturn\u001B[0m \u001B[0;34m{\u001B[0m\u001B[0;34m}\u001B[0m\u001B[0;34m\u001B[0m\u001B[0;34m\u001B[0m\u001B[0m\n\u001B[1;32m     93\u001B[0m \u001B[0;34m\u001B[0m\u001B[0m\n\u001B[0;32m---> 94\u001B[0;31m     \u001B[0mfns\u001B[0m \u001B[0;34m=\u001B[0m \u001B[0mself\u001B[0m\u001B[0;34m.\u001B[0m\u001B[0mfunctions_to_serialize\u001B[0m\u001B[0;34m(\u001B[0m\u001B[0mserialization_cache\u001B[0m\u001B[0;34m)\u001B[0m\u001B[0;34m\u001B[0m\u001B[0;34m\u001B[0m\u001B[0m\n\u001B[0m\u001B[1;32m     95\u001B[0m \u001B[0;34m\u001B[0m\u001B[0m\n\u001B[1;32m     96\u001B[0m     \u001B[0;31m# The parent AutoTrackable class saves all user-defined tf.functions, and\u001B[0m\u001B[0;34m\u001B[0m\u001B[0;34m\u001B[0m\u001B[0;34m\u001B[0m\u001B[0m\n",
      "\u001B[0;32m~/miniforge3/envs/env_rl/lib/python3.8/site-packages/tensorflow/python/keras/saving/saved_model/layer_serialization.py\u001B[0m in \u001B[0;36mfunctions_to_serialize\u001B[0;34m(self, serialization_cache)\u001B[0m\n\u001B[1;32m     76\u001B[0m \u001B[0;34m\u001B[0m\u001B[0m\n\u001B[1;32m     77\u001B[0m   \u001B[0;32mdef\u001B[0m \u001B[0mfunctions_to_serialize\u001B[0m\u001B[0;34m(\u001B[0m\u001B[0mself\u001B[0m\u001B[0;34m,\u001B[0m \u001B[0mserialization_cache\u001B[0m\u001B[0;34m)\u001B[0m\u001B[0;34m:\u001B[0m\u001B[0;34m\u001B[0m\u001B[0;34m\u001B[0m\u001B[0m\n\u001B[0;32m---> 78\u001B[0;31m     return (self._get_serialized_attributes(\n\u001B[0m\u001B[1;32m     79\u001B[0m         serialization_cache).functions_to_serialize)\n\u001B[1;32m     80\u001B[0m \u001B[0;34m\u001B[0m\u001B[0m\n",
      "\u001B[0;32m~/miniforge3/envs/env_rl/lib/python3.8/site-packages/tensorflow/python/keras/saving/saved_model/layer_serialization.py\u001B[0m in \u001B[0;36m_get_serialized_attributes\u001B[0;34m(self, serialization_cache)\u001B[0m\n\u001B[1;32m     92\u001B[0m       \u001B[0;32mreturn\u001B[0m \u001B[0mserialized_attr\u001B[0m\u001B[0;34m\u001B[0m\u001B[0;34m\u001B[0m\u001B[0m\n\u001B[1;32m     93\u001B[0m \u001B[0;34m\u001B[0m\u001B[0m\n\u001B[0;32m---> 94\u001B[0;31m     object_dict, function_dict = self._get_serialized_attributes_internal(\n\u001B[0m\u001B[1;32m     95\u001B[0m         serialization_cache)\n\u001B[1;32m     96\u001B[0m \u001B[0;34m\u001B[0m\u001B[0m\n",
      "\u001B[0;32m~/miniforge3/envs/env_rl/lib/python3.8/site-packages/tensorflow/python/keras/saving/saved_model/model_serialization.py\u001B[0m in \u001B[0;36m_get_serialized_attributes_internal\u001B[0;34m(self, serialization_cache)\u001B[0m\n\u001B[1;32m     49\u001B[0m     \u001B[0;31m# cache (i.e. this is the root level object).\u001B[0m\u001B[0;34m\u001B[0m\u001B[0;34m\u001B[0m\u001B[0;34m\u001B[0m\u001B[0m\n\u001B[1;32m     50\u001B[0m     \u001B[0;32mif\u001B[0m \u001B[0mlen\u001B[0m\u001B[0;34m(\u001B[0m\u001B[0mserialization_cache\u001B[0m\u001B[0;34m[\u001B[0m\u001B[0mconstants\u001B[0m\u001B[0;34m.\u001B[0m\u001B[0mKERAS_CACHE_KEY\u001B[0m\u001B[0;34m]\u001B[0m\u001B[0;34m)\u001B[0m \u001B[0;34m==\u001B[0m \u001B[0;36m1\u001B[0m\u001B[0;34m:\u001B[0m\u001B[0;34m\u001B[0m\u001B[0;34m\u001B[0m\u001B[0m\n\u001B[0;32m---> 51\u001B[0;31m       \u001B[0mdefault_signature\u001B[0m \u001B[0;34m=\u001B[0m \u001B[0msave_impl\u001B[0m\u001B[0;34m.\u001B[0m\u001B[0mdefault_save_signature\u001B[0m\u001B[0;34m(\u001B[0m\u001B[0mself\u001B[0m\u001B[0;34m.\u001B[0m\u001B[0mobj\u001B[0m\u001B[0;34m)\u001B[0m\u001B[0;34m\u001B[0m\u001B[0;34m\u001B[0m\u001B[0m\n\u001B[0m\u001B[1;32m     52\u001B[0m \u001B[0;34m\u001B[0m\u001B[0m\n\u001B[1;32m     53\u001B[0m     \u001B[0;31m# Other than the default signature function, all other attributes match with\u001B[0m\u001B[0;34m\u001B[0m\u001B[0;34m\u001B[0m\u001B[0;34m\u001B[0m\u001B[0m\n",
      "\u001B[0;32m~/miniforge3/envs/env_rl/lib/python3.8/site-packages/tensorflow/python/keras/saving/saved_model/save_impl.py\u001B[0m in \u001B[0;36mdefault_save_signature\u001B[0;34m(layer)\u001B[0m\n\u001B[1;32m    203\u001B[0m   \u001B[0moriginal_losses\u001B[0m \u001B[0;34m=\u001B[0m \u001B[0m_reset_layer_losses\u001B[0m\u001B[0;34m(\u001B[0m\u001B[0mlayer\u001B[0m\u001B[0;34m)\u001B[0m\u001B[0;34m\u001B[0m\u001B[0;34m\u001B[0m\u001B[0m\n\u001B[1;32m    204\u001B[0m   \u001B[0mfn\u001B[0m \u001B[0;34m=\u001B[0m \u001B[0msaving_utils\u001B[0m\u001B[0;34m.\u001B[0m\u001B[0mtrace_model_call\u001B[0m\u001B[0;34m(\u001B[0m\u001B[0mlayer\u001B[0m\u001B[0;34m)\u001B[0m\u001B[0;34m\u001B[0m\u001B[0;34m\u001B[0m\u001B[0m\n\u001B[0;32m--> 205\u001B[0;31m   \u001B[0mfn\u001B[0m\u001B[0;34m.\u001B[0m\u001B[0mget_concrete_function\u001B[0m\u001B[0;34m(\u001B[0m\u001B[0;34m)\u001B[0m\u001B[0;34m\u001B[0m\u001B[0;34m\u001B[0m\u001B[0m\n\u001B[0m\u001B[1;32m    206\u001B[0m   \u001B[0m_restore_layer_losses\u001B[0m\u001B[0;34m(\u001B[0m\u001B[0moriginal_losses\u001B[0m\u001B[0;34m)\u001B[0m\u001B[0;34m\u001B[0m\u001B[0;34m\u001B[0m\u001B[0m\n\u001B[1;32m    207\u001B[0m   \u001B[0;32mreturn\u001B[0m \u001B[0mfn\u001B[0m\u001B[0;34m\u001B[0m\u001B[0;34m\u001B[0m\u001B[0m\n",
      "\u001B[0;32m~/miniforge3/envs/env_rl/lib/python3.8/site-packages/tensorflow/python/eager/def_function.py\u001B[0m in \u001B[0;36mget_concrete_function\u001B[0;34m(self, *args, **kwargs)\u001B[0m\n\u001B[1;32m   1297\u001B[0m       \u001B[0mValueError\u001B[0m\u001B[0;34m:\u001B[0m \u001B[0;32mif\u001B[0m \u001B[0mthis\u001B[0m \u001B[0mobject\u001B[0m \u001B[0mhas\u001B[0m \u001B[0;32mnot\u001B[0m \u001B[0myet\u001B[0m \u001B[0mbeen\u001B[0m \u001B[0mcalled\u001B[0m \u001B[0mon\u001B[0m \u001B[0mconcrete\u001B[0m \u001B[0mvalues\u001B[0m\u001B[0;34m.\u001B[0m\u001B[0;34m\u001B[0m\u001B[0;34m\u001B[0m\u001B[0m\n\u001B[1;32m   1298\u001B[0m     \"\"\"\n\u001B[0;32m-> 1299\u001B[0;31m     \u001B[0mconcrete\u001B[0m \u001B[0;34m=\u001B[0m \u001B[0mself\u001B[0m\u001B[0;34m.\u001B[0m\u001B[0m_get_concrete_function_garbage_collected\u001B[0m\u001B[0;34m(\u001B[0m\u001B[0;34m*\u001B[0m\u001B[0margs\u001B[0m\u001B[0;34m,\u001B[0m \u001B[0;34m**\u001B[0m\u001B[0mkwargs\u001B[0m\u001B[0;34m)\u001B[0m\u001B[0;34m\u001B[0m\u001B[0;34m\u001B[0m\u001B[0m\n\u001B[0m\u001B[1;32m   1300\u001B[0m     \u001B[0mconcrete\u001B[0m\u001B[0;34m.\u001B[0m\u001B[0m_garbage_collector\u001B[0m\u001B[0;34m.\u001B[0m\u001B[0mrelease\u001B[0m\u001B[0;34m(\u001B[0m\u001B[0;34m)\u001B[0m  \u001B[0;31m# pylint: disable=protected-access\u001B[0m\u001B[0;34m\u001B[0m\u001B[0;34m\u001B[0m\u001B[0m\n\u001B[1;32m   1301\u001B[0m     \u001B[0;32mreturn\u001B[0m \u001B[0mconcrete\u001B[0m\u001B[0;34m\u001B[0m\u001B[0;34m\u001B[0m\u001B[0m\n",
      "\u001B[0;32m~/miniforge3/envs/env_rl/lib/python3.8/site-packages/tensorflow/python/eager/def_function.py\u001B[0m in \u001B[0;36m_get_concrete_function_garbage_collected\u001B[0;34m(self, *args, **kwargs)\u001B[0m\n\u001B[1;32m   1203\u001B[0m       \u001B[0;32mif\u001B[0m \u001B[0mself\u001B[0m\u001B[0;34m.\u001B[0m\u001B[0m_stateful_fn\u001B[0m \u001B[0;32mis\u001B[0m \u001B[0;32mNone\u001B[0m\u001B[0;34m:\u001B[0m\u001B[0;34m\u001B[0m\u001B[0;34m\u001B[0m\u001B[0m\n\u001B[1;32m   1204\u001B[0m         \u001B[0minitializers\u001B[0m \u001B[0;34m=\u001B[0m \u001B[0;34m[\u001B[0m\u001B[0;34m]\u001B[0m\u001B[0;34m\u001B[0m\u001B[0;34m\u001B[0m\u001B[0m\n\u001B[0;32m-> 1205\u001B[0;31m         \u001B[0mself\u001B[0m\u001B[0;34m.\u001B[0m\u001B[0m_initialize\u001B[0m\u001B[0;34m(\u001B[0m\u001B[0margs\u001B[0m\u001B[0;34m,\u001B[0m \u001B[0mkwargs\u001B[0m\u001B[0;34m,\u001B[0m \u001B[0madd_initializers_to\u001B[0m\u001B[0;34m=\u001B[0m\u001B[0minitializers\u001B[0m\u001B[0;34m)\u001B[0m\u001B[0;34m\u001B[0m\u001B[0;34m\u001B[0m\u001B[0m\n\u001B[0m\u001B[1;32m   1206\u001B[0m         \u001B[0mself\u001B[0m\u001B[0;34m.\u001B[0m\u001B[0m_initialize_uninitialized_variables\u001B[0m\u001B[0;34m(\u001B[0m\u001B[0minitializers\u001B[0m\u001B[0;34m)\u001B[0m\u001B[0;34m\u001B[0m\u001B[0;34m\u001B[0m\u001B[0m\n\u001B[1;32m   1207\u001B[0m \u001B[0;34m\u001B[0m\u001B[0m\n",
      "\u001B[0;32m~/miniforge3/envs/env_rl/lib/python3.8/site-packages/tensorflow/python/eager/def_function.py\u001B[0m in \u001B[0;36m_initialize\u001B[0;34m(self, args, kwds, add_initializers_to)\u001B[0m\n\u001B[1;32m    723\u001B[0m     \u001B[0mself\u001B[0m\u001B[0;34m.\u001B[0m\u001B[0m_graph_deleter\u001B[0m \u001B[0;34m=\u001B[0m \u001B[0mFunctionDeleter\u001B[0m\u001B[0;34m(\u001B[0m\u001B[0mself\u001B[0m\u001B[0;34m.\u001B[0m\u001B[0m_lifted_initializer_graph\u001B[0m\u001B[0;34m)\u001B[0m\u001B[0;34m\u001B[0m\u001B[0;34m\u001B[0m\u001B[0m\n\u001B[1;32m    724\u001B[0m     self._concrete_stateful_fn = (\n\u001B[0;32m--> 725\u001B[0;31m         self._stateful_fn._get_concrete_function_internal_garbage_collected(  # pylint: disable=protected-access\n\u001B[0m\u001B[1;32m    726\u001B[0m             *args, **kwds))\n\u001B[1;32m    727\u001B[0m \u001B[0;34m\u001B[0m\u001B[0m\n",
      "\u001B[0;32m~/miniforge3/envs/env_rl/lib/python3.8/site-packages/tensorflow/python/eager/function.py\u001B[0m in \u001B[0;36m_get_concrete_function_internal_garbage_collected\u001B[0;34m(self, *args, **kwargs)\u001B[0m\n\u001B[1;32m   2967\u001B[0m       \u001B[0margs\u001B[0m\u001B[0;34m,\u001B[0m \u001B[0mkwargs\u001B[0m \u001B[0;34m=\u001B[0m \u001B[0;32mNone\u001B[0m\u001B[0;34m,\u001B[0m \u001B[0;32mNone\u001B[0m\u001B[0;34m\u001B[0m\u001B[0;34m\u001B[0m\u001B[0m\n\u001B[1;32m   2968\u001B[0m     \u001B[0;32mwith\u001B[0m \u001B[0mself\u001B[0m\u001B[0;34m.\u001B[0m\u001B[0m_lock\u001B[0m\u001B[0;34m:\u001B[0m\u001B[0;34m\u001B[0m\u001B[0;34m\u001B[0m\u001B[0m\n\u001B[0;32m-> 2969\u001B[0;31m       \u001B[0mgraph_function\u001B[0m\u001B[0;34m,\u001B[0m \u001B[0m_\u001B[0m \u001B[0;34m=\u001B[0m \u001B[0mself\u001B[0m\u001B[0;34m.\u001B[0m\u001B[0m_maybe_define_function\u001B[0m\u001B[0;34m(\u001B[0m\u001B[0margs\u001B[0m\u001B[0;34m,\u001B[0m \u001B[0mkwargs\u001B[0m\u001B[0;34m)\u001B[0m\u001B[0;34m\u001B[0m\u001B[0;34m\u001B[0m\u001B[0m\n\u001B[0m\u001B[1;32m   2970\u001B[0m     \u001B[0;32mreturn\u001B[0m \u001B[0mgraph_function\u001B[0m\u001B[0;34m\u001B[0m\u001B[0;34m\u001B[0m\u001B[0m\n\u001B[1;32m   2971\u001B[0m \u001B[0;34m\u001B[0m\u001B[0m\n",
      "\u001B[0;32m~/miniforge3/envs/env_rl/lib/python3.8/site-packages/tensorflow/python/eager/function.py\u001B[0m in \u001B[0;36m_maybe_define_function\u001B[0;34m(self, args, kwargs)\u001B[0m\n\u001B[1;32m   3359\u001B[0m \u001B[0;34m\u001B[0m\u001B[0m\n\u001B[1;32m   3360\u001B[0m           \u001B[0mself\u001B[0m\u001B[0;34m.\u001B[0m\u001B[0m_function_cache\u001B[0m\u001B[0;34m.\u001B[0m\u001B[0mmissed\u001B[0m\u001B[0;34m.\u001B[0m\u001B[0madd\u001B[0m\u001B[0;34m(\u001B[0m\u001B[0mcall_context_key\u001B[0m\u001B[0;34m)\u001B[0m\u001B[0;34m\u001B[0m\u001B[0;34m\u001B[0m\u001B[0m\n\u001B[0;32m-> 3361\u001B[0;31m           \u001B[0mgraph_function\u001B[0m \u001B[0;34m=\u001B[0m \u001B[0mself\u001B[0m\u001B[0;34m.\u001B[0m\u001B[0m_create_graph_function\u001B[0m\u001B[0;34m(\u001B[0m\u001B[0margs\u001B[0m\u001B[0;34m,\u001B[0m \u001B[0mkwargs\u001B[0m\u001B[0;34m)\u001B[0m\u001B[0;34m\u001B[0m\u001B[0;34m\u001B[0m\u001B[0m\n\u001B[0m\u001B[1;32m   3362\u001B[0m           \u001B[0mself\u001B[0m\u001B[0;34m.\u001B[0m\u001B[0m_function_cache\u001B[0m\u001B[0;34m.\u001B[0m\u001B[0mprimary\u001B[0m\u001B[0;34m[\u001B[0m\u001B[0mcache_key\u001B[0m\u001B[0;34m]\u001B[0m \u001B[0;34m=\u001B[0m \u001B[0mgraph_function\u001B[0m\u001B[0;34m\u001B[0m\u001B[0;34m\u001B[0m\u001B[0m\n\u001B[1;32m   3363\u001B[0m \u001B[0;34m\u001B[0m\u001B[0m\n",
      "\u001B[0;32m~/miniforge3/envs/env_rl/lib/python3.8/site-packages/tensorflow/python/eager/function.py\u001B[0m in \u001B[0;36m_create_graph_function\u001B[0;34m(self, args, kwargs, override_flat_arg_shapes)\u001B[0m\n\u001B[1;32m   3194\u001B[0m     \u001B[0marg_names\u001B[0m \u001B[0;34m=\u001B[0m \u001B[0mbase_arg_names\u001B[0m \u001B[0;34m+\u001B[0m \u001B[0mmissing_arg_names\u001B[0m\u001B[0;34m\u001B[0m\u001B[0;34m\u001B[0m\u001B[0m\n\u001B[1;32m   3195\u001B[0m     graph_function = ConcreteFunction(\n\u001B[0;32m-> 3196\u001B[0;31m         func_graph_module.func_graph_from_py_func(\n\u001B[0m\u001B[1;32m   3197\u001B[0m             \u001B[0mself\u001B[0m\u001B[0;34m.\u001B[0m\u001B[0m_name\u001B[0m\u001B[0;34m,\u001B[0m\u001B[0;34m\u001B[0m\u001B[0;34m\u001B[0m\u001B[0m\n\u001B[1;32m   3198\u001B[0m             \u001B[0mself\u001B[0m\u001B[0;34m.\u001B[0m\u001B[0m_python_function\u001B[0m\u001B[0;34m,\u001B[0m\u001B[0;34m\u001B[0m\u001B[0;34m\u001B[0m\u001B[0m\n",
      "\u001B[0;32m~/miniforge3/envs/env_rl/lib/python3.8/site-packages/tensorflow/python/framework/func_graph.py\u001B[0m in \u001B[0;36mfunc_graph_from_py_func\u001B[0;34m(name, python_func, args, kwargs, signature, func_graph, autograph, autograph_options, add_control_dependencies, arg_names, op_return_value, collections, capture_by_value, override_flat_arg_shapes)\u001B[0m\n\u001B[1;32m    988\u001B[0m         \u001B[0m_\u001B[0m\u001B[0;34m,\u001B[0m \u001B[0moriginal_func\u001B[0m \u001B[0;34m=\u001B[0m \u001B[0mtf_decorator\u001B[0m\u001B[0;34m.\u001B[0m\u001B[0munwrap\u001B[0m\u001B[0;34m(\u001B[0m\u001B[0mpython_func\u001B[0m\u001B[0;34m)\u001B[0m\u001B[0;34m\u001B[0m\u001B[0;34m\u001B[0m\u001B[0m\n\u001B[1;32m    989\u001B[0m \u001B[0;34m\u001B[0m\u001B[0m\n\u001B[0;32m--> 990\u001B[0;31m       \u001B[0mfunc_outputs\u001B[0m \u001B[0;34m=\u001B[0m \u001B[0mpython_func\u001B[0m\u001B[0;34m(\u001B[0m\u001B[0;34m*\u001B[0m\u001B[0mfunc_args\u001B[0m\u001B[0;34m,\u001B[0m \u001B[0;34m**\u001B[0m\u001B[0mfunc_kwargs\u001B[0m\u001B[0;34m)\u001B[0m\u001B[0;34m\u001B[0m\u001B[0;34m\u001B[0m\u001B[0m\n\u001B[0m\u001B[1;32m    991\u001B[0m \u001B[0;34m\u001B[0m\u001B[0m\n\u001B[1;32m    992\u001B[0m       \u001B[0;31m# invariant: `func_outputs` contains only Tensors, CompositeTensors,\u001B[0m\u001B[0;34m\u001B[0m\u001B[0;34m\u001B[0m\u001B[0;34m\u001B[0m\u001B[0m\n",
      "\u001B[0;32m~/miniforge3/envs/env_rl/lib/python3.8/site-packages/tensorflow/python/eager/def_function.py\u001B[0m in \u001B[0;36mwrapped_fn\u001B[0;34m(*args, **kwds)\u001B[0m\n\u001B[1;32m    632\u001B[0m             \u001B[0mxla_context\u001B[0m\u001B[0;34m.\u001B[0m\u001B[0mExit\u001B[0m\u001B[0;34m(\u001B[0m\u001B[0;34m)\u001B[0m\u001B[0;34m\u001B[0m\u001B[0;34m\u001B[0m\u001B[0m\n\u001B[1;32m    633\u001B[0m         \u001B[0;32melse\u001B[0m\u001B[0;34m:\u001B[0m\u001B[0;34m\u001B[0m\u001B[0;34m\u001B[0m\u001B[0m\n\u001B[0;32m--> 634\u001B[0;31m           \u001B[0mout\u001B[0m \u001B[0;34m=\u001B[0m \u001B[0mweak_wrapped_fn\u001B[0m\u001B[0;34m(\u001B[0m\u001B[0;34m)\u001B[0m\u001B[0;34m.\u001B[0m\u001B[0m__wrapped__\u001B[0m\u001B[0;34m(\u001B[0m\u001B[0;34m*\u001B[0m\u001B[0margs\u001B[0m\u001B[0;34m,\u001B[0m \u001B[0;34m**\u001B[0m\u001B[0mkwds\u001B[0m\u001B[0;34m)\u001B[0m\u001B[0;34m\u001B[0m\u001B[0;34m\u001B[0m\u001B[0m\n\u001B[0m\u001B[1;32m    635\u001B[0m         \u001B[0;32mreturn\u001B[0m \u001B[0mout\u001B[0m\u001B[0;34m\u001B[0m\u001B[0;34m\u001B[0m\u001B[0m\n\u001B[1;32m    636\u001B[0m \u001B[0;34m\u001B[0m\u001B[0m\n",
      "\u001B[0;32m~/miniforge3/envs/env_rl/lib/python3.8/site-packages/tensorflow/python/keras/saving/saving_utils.py\u001B[0m in \u001B[0;36m_wrapped_model\u001B[0;34m(*args)\u001B[0m\n\u001B[1;32m    133\u001B[0m     with base_layer_utils.call_context().enter(\n\u001B[1;32m    134\u001B[0m         model, inputs=inputs, build_graph=False, training=False, saving=True):\n\u001B[0;32m--> 135\u001B[0;31m       \u001B[0moutputs\u001B[0m \u001B[0;34m=\u001B[0m \u001B[0mmodel\u001B[0m\u001B[0;34m(\u001B[0m\u001B[0minputs\u001B[0m\u001B[0;34m,\u001B[0m \u001B[0mtraining\u001B[0m\u001B[0;34m=\u001B[0m\u001B[0;32mFalse\u001B[0m\u001B[0;34m)\u001B[0m\u001B[0;34m\u001B[0m\u001B[0;34m\u001B[0m\u001B[0m\n\u001B[0m\u001B[1;32m    136\u001B[0m \u001B[0;34m\u001B[0m\u001B[0m\n\u001B[1;32m    137\u001B[0m     \u001B[0;31m# Outputs always has to be a flat dict.\u001B[0m\u001B[0;34m\u001B[0m\u001B[0;34m\u001B[0m\u001B[0;34m\u001B[0m\u001B[0m\n",
      "\u001B[0;32m~/miniforge3/envs/env_rl/lib/python3.8/site-packages/tensorflow/python/keras/engine/base_layer.py\u001B[0m in \u001B[0;36m__call__\u001B[0;34m(self, *args, **kwargs)\u001B[0m\n\u001B[1;32m   1005\u001B[0m         with autocast_variable.enable_auto_cast_variables(\n\u001B[1;32m   1006\u001B[0m             self._compute_dtype_object):\n\u001B[0;32m-> 1007\u001B[0;31m           \u001B[0moutputs\u001B[0m \u001B[0;34m=\u001B[0m \u001B[0mcall_fn\u001B[0m\u001B[0;34m(\u001B[0m\u001B[0minputs\u001B[0m\u001B[0;34m,\u001B[0m \u001B[0;34m*\u001B[0m\u001B[0margs\u001B[0m\u001B[0;34m,\u001B[0m \u001B[0;34m**\u001B[0m\u001B[0mkwargs\u001B[0m\u001B[0;34m)\u001B[0m\u001B[0;34m\u001B[0m\u001B[0;34m\u001B[0m\u001B[0m\n\u001B[0m\u001B[1;32m   1008\u001B[0m \u001B[0;34m\u001B[0m\u001B[0m\n\u001B[1;32m   1009\u001B[0m         \u001B[0;32mif\u001B[0m \u001B[0mself\u001B[0m\u001B[0;34m.\u001B[0m\u001B[0m_activity_regularizer\u001B[0m\u001B[0;34m:\u001B[0m\u001B[0;34m\u001B[0m\u001B[0;34m\u001B[0m\u001B[0m\n",
      "\u001B[0;32m~/miniforge3/envs/env_rl/lib/python3.8/site-packages/tensorflow/python/autograph/impl/api.py\u001B[0m in \u001B[0;36mwrapper\u001B[0;34m(*args, **kwargs)\u001B[0m\n\u001B[1;32m    618\u001B[0m   \u001B[0;32mdef\u001B[0m \u001B[0mwrapper\u001B[0m\u001B[0;34m(\u001B[0m\u001B[0;34m*\u001B[0m\u001B[0margs\u001B[0m\u001B[0;34m,\u001B[0m \u001B[0;34m**\u001B[0m\u001B[0mkwargs\u001B[0m\u001B[0;34m)\u001B[0m\u001B[0;34m:\u001B[0m\u001B[0;34m\u001B[0m\u001B[0;34m\u001B[0m\u001B[0m\n\u001B[1;32m    619\u001B[0m     \u001B[0;32mwith\u001B[0m \u001B[0mag_ctx\u001B[0m\u001B[0;34m.\u001B[0m\u001B[0mControlStatusCtx\u001B[0m\u001B[0;34m(\u001B[0m\u001B[0mstatus\u001B[0m\u001B[0;34m=\u001B[0m\u001B[0mag_ctx\u001B[0m\u001B[0;34m.\u001B[0m\u001B[0mStatus\u001B[0m\u001B[0;34m.\u001B[0m\u001B[0mDISABLED\u001B[0m\u001B[0;34m)\u001B[0m\u001B[0;34m:\u001B[0m\u001B[0;34m\u001B[0m\u001B[0;34m\u001B[0m\u001B[0m\n\u001B[0;32m--> 620\u001B[0;31m       \u001B[0;32mreturn\u001B[0m \u001B[0mfunc\u001B[0m\u001B[0;34m(\u001B[0m\u001B[0;34m*\u001B[0m\u001B[0margs\u001B[0m\u001B[0;34m,\u001B[0m \u001B[0;34m**\u001B[0m\u001B[0mkwargs\u001B[0m\u001B[0;34m)\u001B[0m\u001B[0;34m\u001B[0m\u001B[0;34m\u001B[0m\u001B[0m\n\u001B[0m\u001B[1;32m    621\u001B[0m \u001B[0;34m\u001B[0m\u001B[0m\n\u001B[1;32m    622\u001B[0m   \u001B[0;32mif\u001B[0m \u001B[0minspect\u001B[0m\u001B[0;34m.\u001B[0m\u001B[0misfunction\u001B[0m\u001B[0;34m(\u001B[0m\u001B[0mfunc\u001B[0m\u001B[0;34m)\u001B[0m \u001B[0;32mor\u001B[0m \u001B[0minspect\u001B[0m\u001B[0;34m.\u001B[0m\u001B[0mismethod\u001B[0m\u001B[0;34m(\u001B[0m\u001B[0mfunc\u001B[0m\u001B[0;34m)\u001B[0m\u001B[0;34m:\u001B[0m\u001B[0;34m\u001B[0m\u001B[0;34m\u001B[0m\u001B[0m\n",
      "\u001B[0;32m<ipython-input-4-b8998f01df81>\u001B[0m in \u001B[0;36mcall\u001B[0;34m(self, inputs, training)\u001B[0m\n\u001B[1;32m     41\u001B[0m         \u001B[0mx\u001B[0m \u001B[0;34m=\u001B[0m \u001B[0mself\u001B[0m\u001B[0;34m.\u001B[0m\u001B[0mGConv3\u001B[0m\u001B[0;34m(\u001B[0m\u001B[0minputs\u001B[0m\u001B[0;34m=\u001B[0m\u001B[0;34m[\u001B[0m\u001B[0mx\u001B[0m\u001B[0;34m,\u001B[0m\u001B[0mspt\u001B[0m\u001B[0;34m]\u001B[0m\u001B[0;34m,\u001B[0m\u001B[0mtraining\u001B[0m\u001B[0;34m=\u001B[0m\u001B[0mtraining\u001B[0m\u001B[0;34m)\u001B[0m\u001B[0;34m\u001B[0m\u001B[0;34m\u001B[0m\u001B[0m\n\u001B[1;32m     42\u001B[0m         \u001B[0;31m# print(x.shape)\u001B[0m\u001B[0;34m\u001B[0m\u001B[0;34m\u001B[0m\u001B[0;34m\u001B[0m\u001B[0m\n\u001B[0;32m---> 43\u001B[0;31m         \u001B[0mx\u001B[0m \u001B[0;34m=\u001B[0m \u001B[0mself\u001B[0m\u001B[0;34m.\u001B[0m\u001B[0mreshape\u001B[0m\u001B[0;34m(\u001B[0m\u001B[0mx\u001B[0m\u001B[0;34m)\u001B[0m\u001B[0;34m\u001B[0m\u001B[0;34m\u001B[0m\u001B[0m\n\u001B[0m\u001B[1;32m     44\u001B[0m         \u001B[0;31m# print(x.shape)\u001B[0m\u001B[0;34m\u001B[0m\u001B[0;34m\u001B[0m\u001B[0;34m\u001B[0m\u001B[0m\n\u001B[1;32m     45\u001B[0m         \u001B[0mx\u001B[0m \u001B[0;34m=\u001B[0m \u001B[0mself\u001B[0m\u001B[0;34m.\u001B[0m\u001B[0mdense1\u001B[0m\u001B[0;34m(\u001B[0m\u001B[0mx\u001B[0m\u001B[0;34m)\u001B[0m\u001B[0;34m\u001B[0m\u001B[0;34m\u001B[0m\u001B[0m\n",
      "\u001B[0;32m~/miniforge3/envs/env_rl/lib/python3.8/site-packages/tensorflow/python/keras/engine/base_layer.py\u001B[0m in \u001B[0;36m__call__\u001B[0;34m(self, *args, **kwargs)\u001B[0m\n\u001B[1;32m   1005\u001B[0m         with autocast_variable.enable_auto_cast_variables(\n\u001B[1;32m   1006\u001B[0m             self._compute_dtype_object):\n\u001B[0;32m-> 1007\u001B[0;31m           \u001B[0moutputs\u001B[0m \u001B[0;34m=\u001B[0m \u001B[0mcall_fn\u001B[0m\u001B[0;34m(\u001B[0m\u001B[0minputs\u001B[0m\u001B[0;34m,\u001B[0m \u001B[0;34m*\u001B[0m\u001B[0margs\u001B[0m\u001B[0;34m,\u001B[0m \u001B[0;34m**\u001B[0m\u001B[0mkwargs\u001B[0m\u001B[0;34m)\u001B[0m\u001B[0;34m\u001B[0m\u001B[0;34m\u001B[0m\u001B[0m\n\u001B[0m\u001B[1;32m   1008\u001B[0m \u001B[0;34m\u001B[0m\u001B[0m\n\u001B[1;32m   1009\u001B[0m         \u001B[0;32mif\u001B[0m \u001B[0mself\u001B[0m\u001B[0;34m.\u001B[0m\u001B[0m_activity_regularizer\u001B[0m\u001B[0;34m:\u001B[0m\u001B[0;34m\u001B[0m\u001B[0;34m\u001B[0m\u001B[0m\n",
      "\u001B[0;32m~/miniforge3/envs/env_rl/lib/python3.8/site-packages/tensorflow/python/keras/layers/core.py\u001B[0m in \u001B[0;36mcall\u001B[0;34m(self, inputs)\u001B[0m\n\u001B[1;32m    584\u001B[0m       \u001B[0;31m# Set the static shape for the result since it might lost during array_ops\u001B[0m\u001B[0;34m\u001B[0m\u001B[0;34m\u001B[0m\u001B[0;34m\u001B[0m\u001B[0m\n\u001B[1;32m    585\u001B[0m       \u001B[0;31m# reshape, eg, some `None` dim in the result could be inferred.\u001B[0m\u001B[0;34m\u001B[0m\u001B[0;34m\u001B[0m\u001B[0;34m\u001B[0m\u001B[0m\n\u001B[0;32m--> 586\u001B[0;31m       \u001B[0mresult\u001B[0m\u001B[0;34m.\u001B[0m\u001B[0mset_shape\u001B[0m\u001B[0;34m(\u001B[0m\u001B[0mself\u001B[0m\u001B[0;34m.\u001B[0m\u001B[0mcompute_output_shape\u001B[0m\u001B[0;34m(\u001B[0m\u001B[0minputs\u001B[0m\u001B[0;34m.\u001B[0m\u001B[0mshape\u001B[0m\u001B[0;34m)\u001B[0m\u001B[0;34m)\u001B[0m\u001B[0;34m\u001B[0m\u001B[0;34m\u001B[0m\u001B[0m\n\u001B[0m\u001B[1;32m    587\u001B[0m     \u001B[0;32mreturn\u001B[0m \u001B[0mresult\u001B[0m\u001B[0;34m\u001B[0m\u001B[0;34m\u001B[0m\u001B[0m\n\u001B[1;32m    588\u001B[0m \u001B[0;34m\u001B[0m\u001B[0m\n",
      "\u001B[0;32m~/miniforge3/envs/env_rl/lib/python3.8/site-packages/tensorflow/python/keras/layers/core.py\u001B[0m in \u001B[0;36mcompute_output_shape\u001B[0;34m(self, input_shape)\u001B[0m\n\u001B[1;32m    548\u001B[0m     \u001B[0;32melse\u001B[0m\u001B[0;34m:\u001B[0m\u001B[0;34m\u001B[0m\u001B[0;34m\u001B[0m\u001B[0m\n\u001B[1;32m    549\u001B[0m       \u001B[0moutput_shape\u001B[0m \u001B[0;34m=\u001B[0m \u001B[0;34m[\u001B[0m\u001B[0minput_shape\u001B[0m\u001B[0;34m[\u001B[0m\u001B[0;36m0\u001B[0m\u001B[0;34m]\u001B[0m\u001B[0;34m]\u001B[0m\u001B[0;34m\u001B[0m\u001B[0;34m\u001B[0m\u001B[0m\n\u001B[0;32m--> 550\u001B[0;31m       output_shape += self._fix_unknown_dimension(input_shape[1:],\n\u001B[0m\u001B[1;32m    551\u001B[0m                                                   self.target_shape)\n\u001B[1;32m    552\u001B[0m     \u001B[0;32mreturn\u001B[0m \u001B[0mtensor_shape\u001B[0m\u001B[0;34m.\u001B[0m\u001B[0mTensorShape\u001B[0m\u001B[0;34m(\u001B[0m\u001B[0moutput_shape\u001B[0m\u001B[0;34m)\u001B[0m\u001B[0;34m\u001B[0m\u001B[0;34m\u001B[0m\u001B[0m\n",
      "\u001B[0;32m~/miniforge3/envs/env_rl/lib/python3.8/site-packages/tensorflow/python/keras/layers/core.py\u001B[0m in \u001B[0;36m_fix_unknown_dimension\u001B[0;34m(self, input_shape, output_shape)\u001B[0m\n\u001B[1;32m    537\u001B[0m       \u001B[0moutput_shape\u001B[0m\u001B[0;34m[\u001B[0m\u001B[0munknown\u001B[0m\u001B[0;34m]\u001B[0m \u001B[0;34m=\u001B[0m \u001B[0moriginal\u001B[0m \u001B[0;34m//\u001B[0m \u001B[0mknown\u001B[0m\u001B[0;34m\u001B[0m\u001B[0;34m\u001B[0m\u001B[0m\n\u001B[1;32m    538\u001B[0m     \u001B[0;32melif\u001B[0m \u001B[0moriginal\u001B[0m \u001B[0;34m!=\u001B[0m \u001B[0mknown\u001B[0m\u001B[0;34m:\u001B[0m\u001B[0;34m\u001B[0m\u001B[0;34m\u001B[0m\u001B[0m\n\u001B[0;32m--> 539\u001B[0;31m       \u001B[0;32mraise\u001B[0m \u001B[0mValueError\u001B[0m\u001B[0;34m(\u001B[0m\u001B[0mmsg\u001B[0m\u001B[0;34m)\u001B[0m\u001B[0;34m\u001B[0m\u001B[0;34m\u001B[0m\u001B[0m\n\u001B[0m\u001B[1;32m    540\u001B[0m     \u001B[0;32mreturn\u001B[0m \u001B[0moutput_shape\u001B[0m\u001B[0;34m\u001B[0m\u001B[0;34m\u001B[0m\u001B[0m\n\u001B[1;32m    541\u001B[0m \u001B[0;34m\u001B[0m\u001B[0m\n",
      "\u001B[0;31mValueError\u001B[0m: total size of new array must be unchanged, input_shape = [16], output_shape = [1, 1152]"
     ]
    }
   ],
   "source": [
    "file_path = '/Users/yuzhao/Desktop/StudyPool/pythonProject/GCDQNckpt/GCDQN_1'+str(episode+1)\n",
    "model.save(filepath=file_path)\n"
   ],
   "metadata": {
    "collapsed": false,
    "pycharm": {
     "name": "#%%\n"
    }
   }
  },
  {
   "cell_type": "code",
   "execution_count": 43,
   "outputs": [
    {
     "name": "stdout",
     "output_type": "stream",
     "text": [
      "Model: \"gc_dqn__model_3\"\n",
      "_________________________________________________________________\n",
      "Layer (type)                 Output Shape              Param #   \n",
      "=================================================================\n",
      "graph_convolution_9 (GraphCo multiple                  64        \n",
      "_________________________________________________________________\n",
      "graph_convolution_10 (GraphC multiple                  256       \n",
      "_________________________________________________________________\n",
      "graph_convolution_11 (GraphC multiple                  256       \n",
      "_________________________________________________________________\n",
      "reshape_3 (Reshape)          multiple                  0         \n",
      "_________________________________________________________________\n",
      "dense_12 (Dense)             multiple                  1729500   \n",
      "_________________________________________________________________\n",
      "dense_13 (Dense)             multiple                  2251500   \n",
      "_________________________________________________________________\n",
      "dense_14 (Dense)             multiple                  2251500   \n",
      "_________________________________________________________________\n",
      "dense_15 (Dense)             multiple                  100443918 \n",
      "=================================================================\n",
      "Total params: 106,676,994\n",
      "Trainable params: 106,676,994\n",
      "Non-trainable params: 0\n",
      "_________________________________________________________________\n"
     ]
    }
   ],
   "source": [
    "model.summary()"
   ],
   "metadata": {
    "collapsed": false,
    "pycharm": {
     "name": "#%%\n"
    }
   }
  },
  {
   "cell_type": "code",
   "execution_count": null,
   "outputs": [],
   "source": [],
   "metadata": {
    "collapsed": false,
    "pycharm": {
     "name": "#%%\n"
    }
   }
  }
 ],
 "metadata": {
  "kernelspec": {
   "display_name": "Python 3",
   "language": "python",
   "name": "python3"
  },
  "language_info": {
   "codemirror_mode": {
    "name": "ipython",
    "version": 2
   },
   "file_extension": ".py",
   "mimetype": "text/x-python",
   "name": "python",
   "nbconvert_exporter": "python",
   "pygments_lexer": "ipython2",
   "version": "2.7.6"
  }
 },
 "nbformat": 4,
 "nbformat_minor": 0
}